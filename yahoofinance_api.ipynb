{
 "cells": [
  {
   "cell_type": "markdown",
   "id": "nonprofit-microphone",
   "metadata": {},
   "source": [
    "# WEB SCRAPING FINANCIALS FROM YAHOO"
   ]
  },
  {
   "cell_type": "code",
   "execution_count": 10,
   "id": "laden-education",
   "metadata": {},
   "outputs": [
    {
     "name": "stdout",
     "output_type": "stream",
     "text": [
      "['Income StatementBalance SheetCash Flow']\n"
     ]
    }
   ],
   "source": [
    "import re, requests\n",
    "from bs4 import BeautifulSoup\n",
    "\n",
    "url = 'https://finance.yahoo.com/quote/K/balance-sheet?p=K'\n",
    "r = requests.get(url,headers={'User-Agent': 'Mozilla/5.0 (Macintosh; Intel Mac OS X 10_13_4) AppleWebKit/537.36 (KHTML, like Gecko) Chrome/35.0.1916.47 Safari/537.36'})\n",
    "soup = BeautifulSoup(r.text, 'html.parser')\n",
    "\n",
    "title = soup.find('div', string=re.compile('Balance Sheet'))\n",
    "row = title.parent.parent \n",
    "values = [i.text for i in row]\n",
    "print(values[1:])"
   ]
  },
  {
   "cell_type": "code",
   "execution_count": 15,
   "id": "closing-atmosphere",
   "metadata": {},
   "outputs": [
    {
     "data": {
      "text/plain": [
       "<div class=\"M(0) Whs(n) BdEnd Bdc($seperatorColor) D(itb)\" data-reactid=\"35\"><div class=\"D(tbhg)\" data-reactid=\"36\"><div class=\"D(tbr) C($primaryColor)\" data-reactid=\"37\"><div class=\"D(ib) Fw(b) Ta(start) Px(15px)--mv2 Px(10px) W(247px)--mv2 W(222px) Bxz(bb) Bdendw(1px) Bdstartw(1px) Bdbw(1px) Bdends(s) Bdstarts(s) Bdbs(s) Bdc($seperatorColor) Py(6px) Pos(st) Start(0) Bgc($lv2BgColor)\" data-reactid=\"38\"><span data-reactid=\"39\">Breakdown</span><div class=\"W(3px) Pos(a) Start(100%) T(0) H(100%) Bg($pfColumnFakeShadowGradient) Pe(n) Pend(5px)\" data-reactid=\"40\"></div></div><div class=\"Ta(c) Py(6px) Bxz(bb) BdB Bdc($seperatorColor) Miw(120px) Miw(100px)--pnclg D(ib) Fw(b)\" data-reactid=\"41\"><span data-reactid=\"42\">12/31/2020</span></div><div class=\"Ta(c) Py(6px) Bxz(bb) BdB Bdc($seperatorColor) Miw(120px) Miw(100px)--pnclg D(ib) Fw(b) Bgc($lv1BgColor)\" data-reactid=\"43\"><span data-reactid=\"44\">12/31/2019</span></div><div class=\"Ta(c) Py(6px) Bxz(bb) BdB Bdc($seperatorColor) Miw(120px) Miw(100px)--pnclg D(ib) Fw(b)\" data-reactid=\"45\"><span data-reactid=\"46\">12/31/2018</span></div><div class=\"Ta(c) Py(6px) Bxz(bb) BdB Bdc($seperatorColor) Miw(120px) Miw(100px)--pnclg D(ib) Fw(b) Bgc($lv1BgColor)\" data-reactid=\"47\"><span data-reactid=\"48\">12/31/2017</span></div></div></div><div class=\"D(tbrg)\" data-reactid=\"49\"><div class=\"\" data-reactid=\"50\" data-test=\"fin-row\"><div class=\"D(tbr) fi-row Bgc($hoverBgColor):h\" data-reactid=\"51\"><div class=\"D(tbc) Ta(start) Pend(15px)--mv2 Pend(10px) Bxz(bb) Py(8px) Bdends(s) Bdbs(s) Bdstarts(s) Bdstartw(1px) Bdbw(1px) Bdendw(1px) Bdc($seperatorColor) Pos(st) Start(0) Bgc($lv2BgColor) fi-row:h_Bgc($hoverBgColor) Pstart(15px)--mv2 Pstart(10px)\" data-reactid=\"52\"><div class=\"D(ib) Va(m) Ell Mt(-3px) W(215px)--mv2 W(200px) undefined\" data-reactid=\"53\" title=\"Total Assets\"><button aria-label=\"Total Assets\" class=\"P(0) M(0) Va(m) Bd(0) Fz(s) Mend(2px) tgglBtn\" data-reactid=\"54\"><svg class=\"H(16px) Fill($primaryColor) Stk($primaryColor) tgglBtn:h_Fill($linkColor) tgglBtn:h_Stk($linkColor) Cur(p)\" data-icon=\"caret-right\" data-reactid=\"55\" height=\"16\" style=\"stroke-width:0;vertical-align:bottom;\" viewbox=\"0 0 48 48\" width=\"16\"><path d=\"M33.447 24.102L20.72 11.375c-.78-.78-2.048-.78-2.828 0-.78.78-.78 2.047 0 2.828l9.9 9.9-9.9 9.9c-.78.78-.78 2.047 0 2.827.78.78 2.047.78 2.828 0l12.727-12.728z\" data-reactid=\"56\"></path></svg></button><span class=\"Va(m)\" data-reactid=\"57\">Total Assets</span></div><div class=\"W(3px) Pos(a) Start(100%) T(0) H(100%) Bg($pfColumnFakeShadowGradient) Pe(n) Pend(5px)\" data-reactid=\"58\"></div></div><div class=\"Ta(c) Py(6px) Bxz(bb) BdB Bdc($seperatorColor) Miw(120px) Miw(100px)--pnclg D(tbc)\" data-reactid=\"59\" data-test=\"fin-col\"><span data-reactid=\"60\">17,996,000</span></div><div class=\"Ta(c) Py(6px) Bxz(bb) BdB Bdc($seperatorColor) Miw(120px) Miw(100px)--pnclg Bgc($lv1BgColor) fi-row:h_Bgc($hoverBgColor) D(tbc)\" data-reactid=\"61\" data-test=\"fin-col\"><span data-reactid=\"62\">17,564,000</span></div><div class=\"Ta(c) Py(6px) Bxz(bb) BdB Bdc($seperatorColor) Miw(120px) Miw(100px)--pnclg D(tbc)\" data-reactid=\"63\" data-test=\"fin-col\"><span data-reactid=\"64\">17,780,000</span></div><div class=\"Ta(c) Py(6px) Bxz(bb) BdB Bdc($seperatorColor) Miw(120px) Miw(100px)--pnclg Bgc($lv1BgColor) fi-row:h_Bgc($hoverBgColor) D(tbc)\" data-reactid=\"65\" data-test=\"fin-col\"><span data-reactid=\"66\">16,350,000</span></div></div><div data-reactid=\"67\"></div></div><div class=\"\" data-reactid=\"68\" data-test=\"fin-row\"><div class=\"D(tbr) fi-row Bgc($hoverBgColor):h\" data-reactid=\"69\"><div class=\"D(tbc) Ta(start) Pend(15px)--mv2 Pend(10px) Bxz(bb) Py(8px) Bdends(s) Bdbs(s) Bdstarts(s) Bdstartw(1px) Bdbw(1px) Bdendw(1px) Bdc($seperatorColor) Pos(st) Start(0) Bgc($lv2BgColor) fi-row:h_Bgc($hoverBgColor) Pstart(15px)--mv2 Pstart(10px)\" data-reactid=\"70\"><div class=\"D(ib) Va(m) Ell Mt(-3px) W(215px)--mv2 W(200px) undefined\" data-reactid=\"71\" title=\"Total Liabilities Net Minority Interest\"><button aria-label=\"Total Liabilities Net Minority Interest\" class=\"P(0) M(0) Va(m) Bd(0) Fz(s) Mend(2px) tgglBtn\" data-reactid=\"72\"><svg class=\"H(16px) Fill($primaryColor) Stk($primaryColor) tgglBtn:h_Fill($linkColor) tgglBtn:h_Stk($linkColor) Cur(p)\" data-icon=\"caret-right\" data-reactid=\"73\" height=\"16\" style=\"stroke-width:0;vertical-align:bottom;\" viewbox=\"0 0 48 48\" width=\"16\"><path d=\"M33.447 24.102L20.72 11.375c-.78-.78-2.048-.78-2.828 0-.78.78-.78 2.047 0 2.828l9.9 9.9-9.9 9.9c-.78.78-.78 2.047 0 2.827.78.78 2.047.78 2.828 0l12.727-12.728z\" data-reactid=\"74\"></path></svg></button><span class=\"Va(m)\" data-reactid=\"75\">Total Liabilities Net Minority Interest</span></div><div class=\"W(3px) Pos(a) Start(100%) T(0) H(100%) Bg($pfColumnFakeShadowGradient) Pe(n) Pend(5px)\" data-reactid=\"76\"></div></div><div class=\"Ta(c) Py(6px) Bxz(bb) BdB Bdc($seperatorColor) Miw(120px) Miw(100px)--pnclg D(tbc)\" data-reactid=\"77\" data-test=\"fin-col\"><span data-reactid=\"78\">14,360,000</span></div><div class=\"Ta(c) Py(6px) Bxz(bb) BdB Bdc($seperatorColor) Miw(120px) Miw(100px)--pnclg Bgc($lv1BgColor) fi-row:h_Bgc($hoverBgColor) D(tbc)\" data-reactid=\"79\" data-test=\"fin-col\"><span data-reactid=\"80\">14,250,000</span></div><div class=\"Ta(c) Py(6px) Bxz(bb) BdB Bdc($seperatorColor) Miw(120px) Miw(100px)--pnclg D(tbc)\" data-reactid=\"81\" data-test=\"fin-col\"><span data-reactid=\"82\">14,621,000</span></div><div class=\"Ta(c) Py(6px) Bxz(bb) BdB Bdc($seperatorColor) Miw(120px) Miw(100px)--pnclg Bgc($lv1BgColor) fi-row:h_Bgc($hoverBgColor) D(tbc)\" data-reactid=\"83\" data-test=\"fin-col\"><span data-reactid=\"84\">14,122,000</span></div></div><div data-reactid=\"85\"></div></div><div class=\"\" data-reactid=\"86\" data-test=\"fin-row\"><div class=\"D(tbr) fi-row Bgc($hoverBgColor):h\" data-reactid=\"87\"><div class=\"D(tbc) Ta(start) Pend(15px)--mv2 Pend(10px) Bxz(bb) Py(8px) Bdends(s) Bdbs(s) Bdstarts(s) Bdstartw(1px) Bdbw(1px) Bdendw(1px) Bdc($seperatorColor) Pos(st) Start(0) Bgc($lv2BgColor) fi-row:h_Bgc($hoverBgColor) Pstart(15px)--mv2 Pstart(10px)\" data-reactid=\"88\"><div class=\"D(ib) Va(m) Ell Mt(-3px) W(215px)--mv2 W(200px) undefined\" data-reactid=\"89\" title=\"Total Equity Gross Minority Interest\"><button aria-label=\"Total Equity Gross Minority Interest\" class=\"P(0) M(0) Va(m) Bd(0) Fz(s) Mend(2px) tgglBtn\" data-reactid=\"90\"><svg class=\"H(16px) Fill($primaryColor) Stk($primaryColor) tgglBtn:h_Fill($linkColor) tgglBtn:h_Stk($linkColor) Cur(p)\" data-icon=\"caret-right\" data-reactid=\"91\" height=\"16\" style=\"stroke-width:0;vertical-align:bottom;\" viewbox=\"0 0 48 48\" width=\"16\"><path d=\"M33.447 24.102L20.72 11.375c-.78-.78-2.048-.78-2.828 0-.78.78-.78 2.047 0 2.828l9.9 9.9-9.9 9.9c-.78.78-.78 2.047 0 2.827.78.78 2.047.78 2.828 0l12.727-12.728z\" data-reactid=\"92\"></path></svg></button><span class=\"Va(m)\" data-reactid=\"93\">Total Equity Gross Minority Interest</span></div><div class=\"W(3px) Pos(a) Start(100%) T(0) H(100%) Bg($pfColumnFakeShadowGradient) Pe(n) Pend(5px)\" data-reactid=\"94\"></div></div><div class=\"Ta(c) Py(6px) Bxz(bb) BdB Bdc($seperatorColor) Miw(120px) Miw(100px)--pnclg D(tbc)\" data-reactid=\"95\" data-test=\"fin-col\"><span data-reactid=\"96\">3,636,000</span></div><div class=\"Ta(c) Py(6px) Bxz(bb) BdB Bdc($seperatorColor) Miw(120px) Miw(100px)--pnclg Bgc($lv1BgColor) fi-row:h_Bgc($hoverBgColor) D(tbc)\" data-reactid=\"97\" data-test=\"fin-col\"><span data-reactid=\"98\">3,314,000</span></div><div class=\"Ta(c) Py(6px) Bxz(bb) BdB Bdc($seperatorColor) Miw(120px) Miw(100px)--pnclg D(tbc)\" data-reactid=\"99\" data-test=\"fin-col\"><span data-reactid=\"100\">3,159,000</span></div><div class=\"Ta(c) Py(6px) Bxz(bb) BdB Bdc($seperatorColor) Miw(120px) Miw(100px)--pnclg Bgc($lv1BgColor) fi-row:h_Bgc($hoverBgColor) D(tbc)\" data-reactid=\"101\" data-test=\"fin-col\"><span data-reactid=\"102\">2,228,000</span></div></div><div data-reactid=\"103\"></div></div><div class=\"\" data-reactid=\"104\" data-test=\"fin-row\"><div class=\"D(tbr) fi-row Bgc($hoverBgColor):h\" data-reactid=\"105\"><div class=\"D(tbc) Ta(start) Pend(15px)--mv2 Pend(10px) Bxz(bb) Py(8px) Bdends(s) Bdbs(s) Bdstarts(s) Bdstartw(1px) Bdbw(1px) Bdendw(1px) Bdc($seperatorColor) Pos(st) Start(0) Bgc($lv2BgColor) fi-row:h_Bgc($hoverBgColor) Pstart(15px)--mv2 Pstart(10px)\" data-reactid=\"106\"><div class=\"D(ib) Va(m) Ell Mt(-3px) W(215px)--mv2 W(200px) undefined\" data-reactid=\"107\" title=\"Total Capitalization\"><span class=\"Va(m)\" data-reactid=\"108\">Total Capitalization</span></div><div class=\"W(3px) Pos(a) Start(100%) T(0) H(100%) Bg($pfColumnFakeShadowGradient) Pe(n) Pend(5px)\" data-reactid=\"109\"></div></div><div class=\"Ta(c) Py(6px) Bxz(bb) BdB Bdc($seperatorColor) Miw(120px) Miw(100px)--pnclg D(tbc)\" data-reactid=\"110\" data-test=\"fin-col\"><span data-reactid=\"111\">9,858,000</span></div><div class=\"Ta(c) Py(6px) Bxz(bb) BdB Bdc($seperatorColor) Miw(120px) Miw(100px)--pnclg Bgc($lv1BgColor) fi-row:h_Bgc($hoverBgColor) D(tbc)\" data-reactid=\"112\" data-test=\"fin-col\"><span data-reactid=\"113\">9,942,000</span></div><div class=\"Ta(c) Py(6px) Bxz(bb) BdB Bdc($seperatorColor) Miw(120px) Miw(100px)--pnclg D(tbc)\" data-reactid=\"114\" data-test=\"fin-col\"><span data-reactid=\"115\">10,808,000</span></div><div class=\"Ta(c) Py(6px) Bxz(bb) BdB Bdc($seperatorColor) Miw(120px) Miw(100px)--pnclg Bgc($lv1BgColor) fi-row:h_Bgc($hoverBgColor) D(tbc)\" data-reactid=\"116\" data-test=\"fin-col\"><span data-reactid=\"117\">10,048,000</span></div></div><div data-reactid=\"118\"></div></div><!-- react-empty: 119 --><div class=\"\" data-reactid=\"120\" data-test=\"fin-row\"><div class=\"D(tbr) fi-row Bgc($hoverBgColor):h\" data-reactid=\"121\"><div class=\"D(tbc) Ta(start) Pend(15px)--mv2 Pend(10px) Bxz(bb) Py(8px) Bdends(s) Bdbs(s) Bdstarts(s) Bdstartw(1px) Bdbw(1px) Bdendw(1px) Bdc($seperatorColor) Pos(st) Start(0) Bgc($lv2BgColor) fi-row:h_Bgc($hoverBgColor) Pstart(15px)--mv2 Pstart(10px)\" data-reactid=\"122\"><div class=\"D(ib) Va(m) Ell Mt(-3px) W(215px)--mv2 W(200px) undefined\" data-reactid=\"123\" title=\"Common Stock Equity\"><span class=\"Va(m)\" data-reactid=\"124\">Common Stock Equity</span></div><div class=\"W(3px) Pos(a) Start(100%) T(0) H(100%) Bg($pfColumnFakeShadowGradient) Pe(n) Pend(5px)\" data-reactid=\"125\"></div></div><div class=\"Ta(c) Py(6px) Bxz(bb) BdB Bdc($seperatorColor) Miw(120px) Miw(100px)--pnclg D(tbc)\" data-reactid=\"126\" data-test=\"fin-col\"><span data-reactid=\"127\">3,112,000</span></div><div class=\"Ta(c) Py(6px) Bxz(bb) BdB Bdc($seperatorColor) Miw(120px) Miw(100px)--pnclg Bgc($lv1BgColor) fi-row:h_Bgc($hoverBgColor) D(tbc)\" data-reactid=\"128\" data-test=\"fin-col\"><span data-reactid=\"129\">2,747,000</span></div><div class=\"Ta(c) Py(6px) Bxz(bb) BdB Bdc($seperatorColor) Miw(120px) Miw(100px)--pnclg D(tbc)\" data-reactid=\"130\" data-test=\"fin-col\"><span data-reactid=\"131\">2,601,000</span></div><div class=\"Ta(c) Py(6px) Bxz(bb) BdB Bdc($seperatorColor) Miw(120px) Miw(100px)--pnclg Bgc($lv1BgColor) fi-row:h_Bgc($hoverBgColor) D(tbc)\" data-reactid=\"132\" data-test=\"fin-col\"><span data-reactid=\"133\">2,212,000</span></div></div><div data-reactid=\"134\"></div></div><div class=\"\" data-reactid=\"135\" data-test=\"fin-row\"><div class=\"D(tbr) fi-row Bgc($hoverBgColor):h\" data-reactid=\"136\"><div class=\"D(tbc) Ta(start) Pend(15px)--mv2 Pend(10px) Bxz(bb) Py(8px) Bdends(s) Bdbs(s) Bdstarts(s) Bdstartw(1px) Bdbw(1px) Bdendw(1px) Bdc($seperatorColor) Pos(st) Start(0) Bgc($lv2BgColor) fi-row:h_Bgc($hoverBgColor) Pstart(15px)--mv2 Pstart(10px)\" data-reactid=\"137\"><div class=\"D(ib) Va(m) Ell Mt(-3px) W(215px)--mv2 W(200px) undefined\" data-reactid=\"138\" title=\"Capital Lease Obligations\"><span class=\"Va(m)\" data-reactid=\"139\">Capital Lease Obligations</span></div><div class=\"W(3px) Pos(a) Start(100%) T(0) H(100%) Bg($pfColumnFakeShadowGradient) Pe(n) Pend(5px)\" data-reactid=\"140\"></div></div><div class=\"Ta(c) Py(6px) Bxz(bb) BdB Bdc($seperatorColor) Miw(120px) Miw(100px)--pnclg D(tbc)\" data-reactid=\"141\" data-test=\"fin-col\"><span data-reactid=\"142\">637,000</span></div><div class=\"Ta(c) Py(6px) Bxz(bb) BdB Bdc($seperatorColor) Miw(120px) Miw(100px)--pnclg Bgc($lv1BgColor) fi-row:h_Bgc($hoverBgColor) D(tbc)\" data-reactid=\"143\" data-test=\"fin-col\"><span data-reactid=\"144\">547,000</span></div><div class=\"Ta(c) Py(6px) Bxz(bb) BdB Bdc($seperatorColor) Miw(120px) Miw(100px)--pnclg D(tbc)\" data-reactid=\"145\" data-test=\"fin-col\">-</div><div class=\"Ta(c) Py(6px) Bxz(bb) BdB Bdc($seperatorColor) Miw(120px) Miw(100px)--pnclg Bgc($lv1BgColor) fi-row:h_Bgc($hoverBgColor) D(tbc)\" data-reactid=\"146\" data-test=\"fin-col\">-</div></div><div data-reactid=\"147\"></div></div><div class=\"\" data-reactid=\"148\" data-test=\"fin-row\"><div class=\"D(tbr) fi-row Bgc($hoverBgColor):h\" data-reactid=\"149\"><div class=\"D(tbc) Ta(start) Pend(15px)--mv2 Pend(10px) Bxz(bb) Py(8px) Bdends(s) Bdbs(s) Bdstarts(s) Bdstartw(1px) Bdbw(1px) Bdendw(1px) Bdc($seperatorColor) Pos(st) Start(0) Bgc($lv2BgColor) fi-row:h_Bgc($hoverBgColor) Pstart(15px)--mv2 Pstart(10px)\" data-reactid=\"150\"><div class=\"D(ib) Va(m) Ell Mt(-3px) W(215px)--mv2 W(200px) undefined\" data-reactid=\"151\" title=\"Net Tangible Assets\"><span class=\"Va(m)\" data-reactid=\"152\">Net Tangible Assets</span></div><div class=\"W(3px) Pos(a) Start(100%) T(0) H(100%) Bg($pfColumnFakeShadowGradient) Pe(n) Pend(5px)\" data-reactid=\"153\"></div></div><div class=\"Ta(c) Py(6px) Bxz(bb) BdB Bdc($seperatorColor) Miw(120px) Miw(100px)--pnclg D(tbc)\" data-reactid=\"154\" data-test=\"fin-col\"><span data-reactid=\"155\">-5,178,000</span></div><div class=\"Ta(c) Py(6px) Bxz(bb) BdB Bdc($seperatorColor) Miw(120px) Miw(100px)--pnclg Bgc($lv1BgColor) fi-row:h_Bgc($hoverBgColor) D(tbc)\" data-reactid=\"156\" data-test=\"fin-col\"><span data-reactid=\"157\">-5,690,000</span></div><div class=\"Ta(c) Py(6px) Bxz(bb) BdB Bdc($seperatorColor) Miw(120px) Miw(100px)--pnclg D(tbc)\" data-reactid=\"158\" data-test=\"fin-col\"><span data-reactid=\"159\">-6,810,000</span></div><div class=\"Ta(c) Py(6px) Bxz(bb) BdB Bdc($seperatorColor) Miw(120px) Miw(100px)--pnclg Bgc($lv1BgColor) fi-row:h_Bgc($hoverBgColor) D(tbc)\" data-reactid=\"160\" data-test=\"fin-col\"><span data-reactid=\"161\">-5,931,000</span></div></div><div data-reactid=\"162\"></div></div><div class=\"\" data-reactid=\"163\" data-test=\"fin-row\"><div class=\"D(tbr) fi-row Bgc($hoverBgColor):h\" data-reactid=\"164\"><div class=\"D(tbc) Ta(start) Pend(15px)--mv2 Pend(10px) Bxz(bb) Py(8px) Bdends(s) Bdbs(s) Bdstarts(s) Bdstartw(1px) Bdbw(1px) Bdendw(1px) Bdc($seperatorColor) Pos(st) Start(0) Bgc($lv2BgColor) fi-row:h_Bgc($hoverBgColor) Pstart(15px)--mv2 Pstart(10px)\" data-reactid=\"165\"><div class=\"D(ib) Va(m) Ell Mt(-3px) W(215px)--mv2 W(200px) undefined\" data-reactid=\"166\" title=\"Working Capital\"><span class=\"Va(m)\" data-reactid=\"167\">Working Capital</span></div><div class=\"W(3px) Pos(a) Start(100%) T(0) H(100%) Bg($pfColumnFakeShadowGradient) Pe(n) Pend(5px)\" data-reactid=\"168\"></div></div><div class=\"Ta(c) Py(6px) Bxz(bb) BdB Bdc($seperatorColor) Miw(120px) Miw(100px)--pnclg D(tbc)\" data-reactid=\"169\" data-test=\"fin-col\"><span data-reactid=\"170\">-1,756,000</span></div><div class=\"Ta(c) Py(6px) Bxz(bb) BdB Bdc($seperatorColor) Miw(120px) Miw(100px)--pnclg Bgc($lv1BgColor) fi-row:h_Bgc($hoverBgColor) D(tbc)\" data-reactid=\"171\" data-test=\"fin-col\"><span data-reactid=\"172\">-1,347,000</span></div><div class=\"Ta(c) Py(6px) Bxz(bb) BdB Bdc($seperatorColor) Miw(120px) Miw(100px)--pnclg D(tbc)\" data-reactid=\"173\" data-test=\"fin-col\"><span data-reactid=\"174\">-1,372,000</span></div><div class=\"Ta(c) Py(6px) Bxz(bb) BdB Bdc($seperatorColor) Miw(120px) Miw(100px)--pnclg Bgc($lv1BgColor) fi-row:h_Bgc($hoverBgColor) D(tbc)\" data-reactid=\"175\" data-test=\"fin-col\"><span data-reactid=\"176\">-1,443,000</span></div></div><div data-reactid=\"177\"></div></div><div class=\"\" data-reactid=\"178\" data-test=\"fin-row\"><div class=\"D(tbr) fi-row Bgc($hoverBgColor):h\" data-reactid=\"179\"><div class=\"D(tbc) Ta(start) Pend(15px)--mv2 Pend(10px) Bxz(bb) Py(8px) Bdends(s) Bdbs(s) Bdstarts(s) Bdstartw(1px) Bdbw(1px) Bdendw(1px) Bdc($seperatorColor) Pos(st) Start(0) Bgc($lv2BgColor) fi-row:h_Bgc($hoverBgColor) Pstart(15px)--mv2 Pstart(10px)\" data-reactid=\"180\"><div class=\"D(ib) Va(m) Ell Mt(-3px) W(215px)--mv2 W(200px) undefined\" data-reactid=\"181\" title=\"Invested Capital\"><span class=\"Va(m)\" data-reactid=\"182\">Invested Capital</span></div><div class=\"W(3px) Pos(a) Start(100%) T(0) H(100%) Bg($pfColumnFakeShadowGradient) Pe(n) Pend(5px)\" data-reactid=\"183\"></div></div><div class=\"Ta(c) Py(6px) Bxz(bb) BdB Bdc($seperatorColor) Miw(120px) Miw(100px)--pnclg D(tbc)\" data-reactid=\"184\" data-test=\"fin-col\"><span data-reactid=\"185\">10,587,000</span></div><div class=\"Ta(c) Py(6px) Bxz(bb) BdB Bdc($seperatorColor) Miw(120px) Miw(100px)--pnclg Bgc($lv1BgColor) fi-row:h_Bgc($hoverBgColor) D(tbc)\" data-reactid=\"186\" data-test=\"fin-col\"><span data-reactid=\"187\">10,669,000</span></div><div class=\"Ta(c) Py(6px) Bxz(bb) BdB Bdc($seperatorColor) Miw(120px) Miw(100px)--pnclg D(tbc)\" data-reactid=\"188\" data-test=\"fin-col\"><span data-reactid=\"189\">11,494,000</span></div><div class=\"Ta(c) Py(6px) Bxz(bb) BdB Bdc($seperatorColor) Miw(120px) Miw(100px)--pnclg Bgc($lv1BgColor) fi-row:h_Bgc($hoverBgColor) D(tbc)\" data-reactid=\"190\" data-test=\"fin-col\"><span data-reactid=\"191\">10,827,000</span></div></div><div data-reactid=\"192\"></div></div><div class=\"\" data-reactid=\"193\" data-test=\"fin-row\"><div class=\"D(tbr) fi-row Bgc($hoverBgColor):h\" data-reactid=\"194\"><div class=\"D(tbc) Ta(start) Pend(15px)--mv2 Pend(10px) Bxz(bb) Py(8px) Bdends(s) Bdbs(s) Bdstarts(s) Bdstartw(1px) Bdbw(1px) Bdendw(1px) Bdc($seperatorColor) Pos(st) Start(0) Bgc($lv2BgColor) fi-row:h_Bgc($hoverBgColor) Pstart(15px)--mv2 Pstart(10px)\" data-reactid=\"195\"><div class=\"D(ib) Va(m) Ell Mt(-3px) W(215px)--mv2 W(200px) undefined\" data-reactid=\"196\" title=\"Tangible Book Value\"><span class=\"Va(m)\" data-reactid=\"197\">Tangible Book Value</span></div><div class=\"W(3px) Pos(a) Start(100%) T(0) H(100%) Bg($pfColumnFakeShadowGradient) Pe(n) Pend(5px)\" data-reactid=\"198\"></div></div><div class=\"Ta(c) Py(6px) Bxz(bb) BdB Bdc($seperatorColor) Miw(120px) Miw(100px)--pnclg D(tbc)\" data-reactid=\"199\" data-test=\"fin-col\"><span data-reactid=\"200\">-5,178,000</span></div><div class=\"Ta(c) Py(6px) Bxz(bb) BdB Bdc($seperatorColor) Miw(120px) Miw(100px)--pnclg Bgc($lv1BgColor) fi-row:h_Bgc($hoverBgColor) D(tbc)\" data-reactid=\"201\" data-test=\"fin-col\"><span data-reactid=\"202\">-5,690,000</span></div><div class=\"Ta(c) Py(6px) Bxz(bb) BdB Bdc($seperatorColor) Miw(120px) Miw(100px)--pnclg D(tbc)\" data-reactid=\"203\" data-test=\"fin-col\"><span data-reactid=\"204\">-6,810,000</span></div><div class=\"Ta(c) Py(6px) Bxz(bb) BdB Bdc($seperatorColor) Miw(120px) Miw(100px)--pnclg Bgc($lv1BgColor) fi-row:h_Bgc($hoverBgColor) D(tbc)\" data-reactid=\"205\" data-test=\"fin-col\"><span data-reactid=\"206\">-5,931,000</span></div></div><div data-reactid=\"207\"></div></div><div class=\"\" data-reactid=\"208\" data-test=\"fin-row\"><div class=\"D(tbr) fi-row Bgc($hoverBgColor):h\" data-reactid=\"209\"><div class=\"D(tbc) Ta(start) Pend(15px)--mv2 Pend(10px) Bxz(bb) Py(8px) Bdends(s) Bdbs(s) Bdstarts(s) Bdstartw(1px) Bdbw(1px) Bdendw(1px) Bdc($seperatorColor) Pos(st) Start(0) Bgc($lv2BgColor) fi-row:h_Bgc($hoverBgColor) Pstart(15px)--mv2 Pstart(10px)\" data-reactid=\"210\"><div class=\"D(ib) Va(m) Ell Mt(-3px) W(215px)--mv2 W(200px) undefined\" data-reactid=\"211\" title=\"Total Debt\"><span class=\"Va(m)\" data-reactid=\"212\">Total Debt</span></div><div class=\"W(3px) Pos(a) Start(100%) T(0) H(100%) Bg($pfColumnFakeShadowGradient) Pe(n) Pend(5px)\" data-reactid=\"213\"></div></div><div class=\"Ta(c) Py(6px) Bxz(bb) BdB Bdc($seperatorColor) Miw(120px) Miw(100px)--pnclg D(tbc)\" data-reactid=\"214\" data-test=\"fin-col\"><span data-reactid=\"215\">8,112,000</span></div><div class=\"Ta(c) Py(6px) Bxz(bb) BdB Bdc($seperatorColor) Miw(120px) Miw(100px)--pnclg Bgc($lv1BgColor) fi-row:h_Bgc($hoverBgColor) D(tbc)\" data-reactid=\"216\" data-test=\"fin-col\"><span data-reactid=\"217\">8,469,000</span></div><div class=\"Ta(c) Py(6px) Bxz(bb) BdB Bdc($seperatorColor) Miw(120px) Miw(100px)--pnclg D(tbc)\" data-reactid=\"218\" data-test=\"fin-col\"><span data-reactid=\"219\">8,893,000</span></div><div class=\"Ta(c) Py(6px) Bxz(bb) BdB Bdc($seperatorColor) Miw(120px) Miw(100px)--pnclg Bgc($lv1BgColor) fi-row:h_Bgc($hoverBgColor) D(tbc)\" data-reactid=\"220\" data-test=\"fin-col\"><span data-reactid=\"221\">8,615,000</span></div></div><div data-reactid=\"222\"></div></div><div class=\"\" data-reactid=\"223\" data-test=\"fin-row\"><div class=\"D(tbr) fi-row Bgc($hoverBgColor):h\" data-reactid=\"224\"><div class=\"D(tbc) Ta(start) Pend(15px)--mv2 Pend(10px) Bxz(bb) Py(8px) Bdends(s) Bdbs(s) Bdstarts(s) Bdstartw(1px) Bdbw(1px) Bdendw(1px) Bdc($seperatorColor) Pos(st) Start(0) Bgc($lv2BgColor) fi-row:h_Bgc($hoverBgColor) Pstart(15px)--mv2 Pstart(10px)\" data-reactid=\"225\"><div class=\"D(ib) Va(m) Ell Mt(-3px) W(215px)--mv2 W(200px) undefined\" data-reactid=\"226\" title=\"Net Debt\"><span class=\"Va(m)\" data-reactid=\"227\">Net Debt</span></div><div class=\"W(3px) Pos(a) Start(100%) T(0) H(100%) Bg($pfColumnFakeShadowGradient) Pe(n) Pend(5px)\" data-reactid=\"228\"></div></div><div class=\"Ta(c) Py(6px) Bxz(bb) BdB Bdc($seperatorColor) Miw(120px) Miw(100px)--pnclg D(tbc)\" data-reactid=\"229\" data-test=\"fin-col\"><span data-reactid=\"230\">7,040,000</span></div><div class=\"Ta(c) Py(6px) Bxz(bb) BdB Bdc($seperatorColor) Miw(120px) Miw(100px)--pnclg Bgc($lv1BgColor) fi-row:h_Bgc($hoverBgColor) D(tbc)\" data-reactid=\"231\" data-test=\"fin-col\"><span data-reactid=\"232\">7,525,000</span></div><div class=\"Ta(c) Py(6px) Bxz(bb) BdB Bdc($seperatorColor) Miw(120px) Miw(100px)--pnclg D(tbc)\" data-reactid=\"233\" data-test=\"fin-col\"><span data-reactid=\"234\">8,572,000</span></div><div class=\"Ta(c) Py(6px) Bxz(bb) BdB Bdc($seperatorColor) Miw(120px) Miw(100px)--pnclg Bgc($lv1BgColor) fi-row:h_Bgc($hoverBgColor) D(tbc)\" data-reactid=\"235\" data-test=\"fin-col\"><span data-reactid=\"236\">8,334,000</span></div></div><div data-reactid=\"237\"></div></div><div class=\"\" data-reactid=\"238\" data-test=\"fin-row\"><div class=\"D(tbr) fi-row Bgc($hoverBgColor):h\" data-reactid=\"239\"><div class=\"D(tbc) Ta(start) Pend(15px)--mv2 Pend(10px) Bxz(bb) Py(8px) Bdends(s) Bdbs(s) Bdstarts(s) Bdstartw(1px) Bdbw(1px) Bdendw(1px) Bdc($seperatorColor) Pos(st) Start(0) Bgc($lv2BgColor) fi-row:h_Bgc($hoverBgColor) Pstart(15px)--mv2 Pstart(10px)\" data-reactid=\"240\"><div class=\"D(ib) Va(m) Ell Mt(-3px) W(215px)--mv2 W(200px) undefined\" data-reactid=\"241\" title=\"Share Issued\"><span class=\"Va(m)\" data-reactid=\"242\">Share Issued</span></div><div class=\"W(3px) Pos(a) Start(100%) T(0) H(100%) Bg($pfColumnFakeShadowGradient) Pe(n) Pend(5px)\" data-reactid=\"243\"></div></div><div class=\"Ta(c) Py(6px) Bxz(bb) BdB Bdc($seperatorColor) Miw(120px) Miw(100px)--pnclg D(tbc)\" data-reactid=\"244\" data-test=\"fin-col\"><span data-reactid=\"245\">420,962</span></div><div class=\"Ta(c) Py(6px) Bxz(bb) BdB Bdc($seperatorColor) Miw(120px) Miw(100px)--pnclg Bgc($lv1BgColor) fi-row:h_Bgc($hoverBgColor) D(tbc)\" data-reactid=\"246\" data-test=\"fin-col\"><span data-reactid=\"247\">420,829</span></div><div class=\"Ta(c) Py(6px) Bxz(bb) BdB Bdc($seperatorColor) Miw(120px) Miw(100px)--pnclg D(tbc)\" data-reactid=\"248\" data-test=\"fin-col\"><span data-reactid=\"249\">420,667</span></div><div class=\"Ta(c) Py(6px) Bxz(bb) BdB Bdc($seperatorColor) Miw(120px) Miw(100px)--pnclg Bgc($lv1BgColor) fi-row:h_Bgc($hoverBgColor) D(tbc)\" data-reactid=\"250\" data-test=\"fin-col\"><span data-reactid=\"251\">420,515</span></div></div><div data-reactid=\"252\"></div></div><div class=\"\" data-reactid=\"253\" data-test=\"fin-row\"><div class=\"D(tbr) fi-row Bgc($hoverBgColor):h\" data-reactid=\"254\"><div class=\"D(tbc) Ta(start) Pend(15px)--mv2 Pend(10px) Bxz(bb) Py(8px) Bdends(s) Bdbs(s) Bdstarts(s) Bdstartw(1px) Bdbw(1px) Bdendw(1px) Bdc($seperatorColor) Pos(st) Start(0) Bgc($lv2BgColor) fi-row:h_Bgc($hoverBgColor) Pstart(15px)--mv2 Pstart(10px)\" data-reactid=\"255\"><div class=\"D(ib) Va(m) Ell Mt(-3px) W(215px)--mv2 W(200px) undefined\" data-reactid=\"256\" title=\"Ordinary Shares Number\"><span class=\"Va(m)\" data-reactid=\"257\">Ordinary Shares Number</span></div><div class=\"W(3px) Pos(a) Start(100%) T(0) H(100%) Bg($pfColumnFakeShadowGradient) Pe(n) Pend(5px)\" data-reactid=\"258\"></div></div><div class=\"Ta(c) Py(6px) Bxz(bb) BdB Bdc($seperatorColor) Miw(120px) Miw(100px)--pnclg D(tbc)\" data-reactid=\"259\" data-test=\"fin-col\"><span data-reactid=\"260\">343,891</span></div><div class=\"Ta(c) Py(6px) Bxz(bb) BdB Bdc($seperatorColor) Miw(120px) Miw(100px)--pnclg Bgc($lv1BgColor) fi-row:h_Bgc($hoverBgColor) D(tbc)\" data-reactid=\"261\" data-test=\"fin-col\"><span data-reactid=\"262\">341,543</span></div><div class=\"Ta(c) Py(6px) Bxz(bb) BdB Bdc($seperatorColor) Miw(120px) Miw(100px)--pnclg D(tbc)\" data-reactid=\"263\" data-test=\"fin-col\"><span data-reactid=\"264\">343,865</span></div><div class=\"Ta(c) Py(6px) Bxz(bb) BdB Bdc($seperatorColor) Miw(120px) Miw(100px)--pnclg Bgc($lv1BgColor) fi-row:h_Bgc($hoverBgColor) D(tbc)\" data-reactid=\"265\" data-test=\"fin-col\"><span data-reactid=\"266\">345,603</span></div></div><div data-reactid=\"267\"></div></div><!-- react-empty: 268 --><div class=\"\" data-reactid=\"269\" data-test=\"fin-row\"><div class=\"D(tbr) fi-row Bgc($hoverBgColor):h\" data-reactid=\"270\"><div class=\"D(tbc) Ta(start) Pend(15px)--mv2 Pend(10px) Bxz(bb) Py(8px) Bdends(s) Bdbs(s) Bdstarts(s) Bdstartw(1px) Bdbw(1px) Bdendw(1px) Bdc($seperatorColor) Pos(st) Start(0) Bgc($lv2BgColor) fi-row:h_Bgc($hoverBgColor) Pstart(15px)--mv2 Pstart(10px)\" data-reactid=\"271\"><div class=\"D(ib) Va(m) Ell Mt(-3px) W(215px)--mv2 W(200px) undefined\" data-reactid=\"272\" title=\"Treasury Shares Number\"><span class=\"Va(m)\" data-reactid=\"273\">Treasury Shares Number</span></div><div class=\"W(3px) Pos(a) Start(100%) T(0) H(100%) Bg($pfColumnFakeShadowGradient) Pe(n) Pend(5px)\" data-reactid=\"274\"></div></div><div class=\"Ta(c) Py(6px) Bxz(bb) BdB Bdc($seperatorColor) Miw(120px) Miw(100px)--pnclg D(tbc)\" data-reactid=\"275\" data-test=\"fin-col\"><span data-reactid=\"276\">77,072</span></div><div class=\"Ta(c) Py(6px) Bxz(bb) BdB Bdc($seperatorColor) Miw(120px) Miw(100px)--pnclg Bgc($lv1BgColor) fi-row:h_Bgc($hoverBgColor) D(tbc)\" data-reactid=\"277\" data-test=\"fin-col\"><span data-reactid=\"278\">79,286</span></div><div class=\"Ta(c) Py(6px) Bxz(bb) BdB Bdc($seperatorColor) Miw(120px) Miw(100px)--pnclg D(tbc)\" data-reactid=\"279\" data-test=\"fin-col\"><span data-reactid=\"280\">76,801</span></div><div class=\"Ta(c) Py(6px) Bxz(bb) BdB Bdc($seperatorColor) Miw(120px) Miw(100px)--pnclg Bgc($lv1BgColor) fi-row:h_Bgc($hoverBgColor) D(tbc)\" data-reactid=\"281\" data-test=\"fin-col\"><span data-reactid=\"282\">74,912</span></div></div><div data-reactid=\"283\"></div></div></div></div>"
      ]
     },
     "execution_count": 15,
     "metadata": {},
     "output_type": "execute_result"
    }
   ],
   "source": [
    "features = soup.find('div',attrs={'class':\"M(0) Whs(n) BdEnd Bdc($seperatorColor) D(itb)\"})\n",
    "table"
   ]
  },
  {
   "cell_type": "code",
   "execution_count": 20,
   "id": "furnished-approval",
   "metadata": {},
   "outputs": [],
   "source": [
    " headers = []\n",
    "temp_list = []\n",
    "label_list = []\n",
    "final = []\n",
    "index = 0\n",
    "#create headers\n",
    "for item in features.find_all('div', class_='D(ib)'):\n",
    "    headers.append(item.text)\n",
    "    #statement contents\n",
    "temp = features.find_all('div', class_='D(tbc)')\n",
    "for line in temp:\n",
    "    #each item adding to a temporary list\n",
    "    temp_list.append(line.text)\n",
    "#temp_list added to final list\n",
    "final.append(temp_list)"
   ]
  },
  {
   "cell_type": "code",
   "execution_count": 29,
   "id": "listed-execution",
   "metadata": {},
   "outputs": [
    {
     "data": {
      "text/plain": [
       "['Total Assets',\n",
       " 'Total Liabilities Net Minority Interest',\n",
       " 'Total Equity Gross Minority Interest',\n",
       " 'Total Capitalization',\n",
       " 'Common Stock Equity',\n",
       " 'Capital Lease Obligations',\n",
       " 'Net Tangible Assets',\n",
       " 'Working Capital',\n",
       " 'Invested Capital',\n",
       " 'Tangible Book Value',\n",
       " 'Total Debt',\n",
       " 'Net Debt',\n",
       " 'Share Issued',\n",
       " 'Ordinary Shares Number',\n",
       " 'Treasury Shares Number']"
      ]
     },
     "execution_count": 29,
     "metadata": {},
     "output_type": "execute_result"
    }
   ],
   "source": [
    "final[0][0::5]"
   ]
  },
  {
   "cell_type": "code",
   "execution_count": 33,
   "id": "spiritual-needle",
   "metadata": {},
   "outputs": [
    {
     "data": {
      "text/plain": [
       "[['Total Assets',\n",
       "  '17,996,000',\n",
       "  '17,564,000',\n",
       "  '17,780,000',\n",
       "  '16,350,000',\n",
       "  'Total Liabilities Net Minority Interest',\n",
       "  '14,360,000',\n",
       "  '14,250,000',\n",
       "  '14,621,000',\n",
       "  '14,122,000',\n",
       "  'Total Equity Gross Minority Interest',\n",
       "  '3,636,000',\n",
       "  '3,314,000',\n",
       "  '3,159,000',\n",
       "  '2,228,000',\n",
       "  'Total Capitalization',\n",
       "  '9,858,000',\n",
       "  '9,942,000',\n",
       "  '10,808,000',\n",
       "  '10,048,000',\n",
       "  'Common Stock Equity',\n",
       "  '3,112,000',\n",
       "  '2,747,000',\n",
       "  '2,601,000',\n",
       "  '2,212,000',\n",
       "  'Capital Lease Obligations',\n",
       "  '637,000',\n",
       "  '547,000',\n",
       "  '-',\n",
       "  '-',\n",
       "  'Net Tangible Assets',\n",
       "  '-5,178,000',\n",
       "  '-5,690,000',\n",
       "  '-6,810,000',\n",
       "  '-5,931,000',\n",
       "  'Working Capital',\n",
       "  '-1,756,000',\n",
       "  '-1,347,000',\n",
       "  '-1,372,000',\n",
       "  '-1,443,000',\n",
       "  'Invested Capital',\n",
       "  '10,587,000',\n",
       "  '10,669,000',\n",
       "  '11,494,000',\n",
       "  '10,827,000',\n",
       "  'Tangible Book Value',\n",
       "  '-5,178,000',\n",
       "  '-5,690,000',\n",
       "  '-6,810,000',\n",
       "  '-5,931,000',\n",
       "  'Total Debt',\n",
       "  '8,112,000',\n",
       "  '8,469,000',\n",
       "  '8,893,000',\n",
       "  '8,615,000',\n",
       "  'Net Debt',\n",
       "  '7,040,000',\n",
       "  '7,525,000',\n",
       "  '8,572,000',\n",
       "  '8,334,000',\n",
       "  'Share Issued',\n",
       "  '420,962',\n",
       "  '420,829',\n",
       "  '420,667',\n",
       "  '420,515',\n",
       "  'Ordinary Shares Number',\n",
       "  '343,891',\n",
       "  '341,543',\n",
       "  '343,865',\n",
       "  '345,603',\n",
       "  'Treasury Shares Number',\n",
       "  '77,072',\n",
       "  '79,286',\n",
       "  '76,801',\n",
       "  '74,912']]"
      ]
     },
     "execution_count": 33,
     "metadata": {},
     "output_type": "execute_result"
    }
   ],
   "source": [
    "final"
   ]
  },
  {
   "cell_type": "code",
   "execution_count": 39,
   "id": "meaningful-female",
   "metadata": {},
   "outputs": [
    {
     "data": {
      "text/plain": [
       "['Total Assets',\n",
       " '17,996,000',\n",
       " '17,564,000',\n",
       " '17,780,000',\n",
       " '16,350,000',\n",
       " 'Total Liabilities Net Minority Interest',\n",
       " '14,360,000',\n",
       " '14,250,000',\n",
       " '14,621,000',\n",
       " '14,122,000',\n",
       " 'Total Equity Gross Minority Interest',\n",
       " '3,636,000',\n",
       " '3,314,000',\n",
       " '3,159,000',\n",
       " '2,228,000',\n",
       " 'Total Capitalization',\n",
       " '9,858,000',\n",
       " '9,942,000',\n",
       " '10,808,000',\n",
       " '10,048,000',\n",
       " 'Common Stock Equity',\n",
       " '3,112,000',\n",
       " '2,747,000',\n",
       " '2,601,000',\n",
       " '2,212,000',\n",
       " 'Capital Lease Obligations',\n",
       " '637,000',\n",
       " '547,000',\n",
       " '-',\n",
       " '-',\n",
       " 'Net Tangible Assets',\n",
       " '-5,178,000',\n",
       " '-5,690,000',\n",
       " '-6,810,000',\n",
       " '-5,931,000',\n",
       " 'Working Capital',\n",
       " '-1,756,000',\n",
       " '-1,347,000',\n",
       " '-1,372,000',\n",
       " '-1,443,000',\n",
       " 'Invested Capital',\n",
       " '10,587,000',\n",
       " '10,669,000',\n",
       " '11,494,000',\n",
       " '10,827,000',\n",
       " 'Tangible Book Value',\n",
       " '-5,178,000',\n",
       " '-5,690,000',\n",
       " '-6,810,000',\n",
       " '-5,931,000',\n",
       " 'Total Debt',\n",
       " '8,112,000',\n",
       " '8,469,000',\n",
       " '8,893,000',\n",
       " '8,615,000',\n",
       " 'Net Debt',\n",
       " '7,040,000',\n",
       " '7,525,000',\n",
       " '8,572,000',\n",
       " '8,334,000',\n",
       " 'Share Issued',\n",
       " '420,962',\n",
       " '420,829',\n",
       " '420,667',\n",
       " '420,515',\n",
       " 'Ordinary Shares Number',\n",
       " '343,891',\n",
       " '341,543',\n",
       " '343,865',\n",
       " '345,603',\n",
       " 'Treasury Shares Number',\n",
       " '77,072',\n",
       " '79,286',\n",
       " '76,801',\n",
       " '74,912']"
      ]
     },
     "execution_count": 39,
     "metadata": {},
     "output_type": "execute_result"
    }
   ],
   "source": [
    "final[0]"
   ]
  },
  {
   "cell_type": "code",
   "execution_count": 26,
   "id": "numeric-delta",
   "metadata": {},
   "outputs": [
    {
     "data": {
      "text/plain": [
       "['Breakdown', '12/31/2020', '12/31/2019', '12/31/2018', '12/31/2017']"
      ]
     },
     "execution_count": 26,
     "metadata": {},
     "output_type": "execute_result"
    }
   ],
   "source": [
    "headers[:5]"
   ]
  },
  {
   "cell_type": "code",
   "execution_count": 36,
   "id": "flexible-verification",
   "metadata": {},
   "outputs": [],
   "source": [
    "flat_list = [item for sublist in final[::5] for item in sublist]\n",
    "flat_list1 = [item for sublist in final for item in sublist]\n",
    "\n",
    "final_data1 = list(zip(*[iter(flat_list1)]*5))\n",
    "fg = pd.DataFrame(final_data1)\n",
    "fg.set_index(0,inplace=True)\n",
    "def convert_to_numeric(column):\n",
    "    first_col = [i.replace(',','') for i in column]\n",
    "    second_col = [i.replace('-','') for i in first_col]\n",
    "    final_col = pd.to_numeric(second_col)\n",
    "\n",
    "    return final_col"
   ]
  },
  {
   "cell_type": "code",
   "execution_count": 41,
   "id": "wound-brazilian",
   "metadata": {},
   "outputs": [
    {
     "data": {
      "text/plain": [
       "True"
      ]
     },
     "execution_count": 41,
     "metadata": {},
     "output_type": "execute_result"
    }
   ],
   "source": [
    "flat_list == final[0]"
   ]
  },
  {
   "cell_type": "code",
   "execution_count": 43,
   "id": "dietary-newton",
   "metadata": {},
   "outputs": [
    {
     "data": {
      "text/plain": [
       "[('Total Assets', '17,996,000', '17,564,000', '17,780,000', '16,350,000'),\n",
       " ('Total Liabilities Net Minority Interest',\n",
       "  '14,360,000',\n",
       "  '14,250,000',\n",
       "  '14,621,000',\n",
       "  '14,122,000'),\n",
       " ('Total Equity Gross Minority Interest',\n",
       "  '3,636,000',\n",
       "  '3,314,000',\n",
       "  '3,159,000',\n",
       "  '2,228,000'),\n",
       " ('Total Capitalization',\n",
       "  '9,858,000',\n",
       "  '9,942,000',\n",
       "  '10,808,000',\n",
       "  '10,048,000'),\n",
       " ('Common Stock Equity', '3,112,000', '2,747,000', '2,601,000', '2,212,000'),\n",
       " ('Capital Lease Obligations', '637,000', '547,000', '-', '-'),\n",
       " ('Net Tangible Assets',\n",
       "  '-5,178,000',\n",
       "  '-5,690,000',\n",
       "  '-6,810,000',\n",
       "  '-5,931,000'),\n",
       " ('Working Capital', '-1,756,000', '-1,347,000', '-1,372,000', '-1,443,000'),\n",
       " ('Invested Capital', '10,587,000', '10,669,000', '11,494,000', '10,827,000'),\n",
       " ('Tangible Book Value',\n",
       "  '-5,178,000',\n",
       "  '-5,690,000',\n",
       "  '-6,810,000',\n",
       "  '-5,931,000'),\n",
       " ('Total Debt', '8,112,000', '8,469,000', '8,893,000', '8,615,000'),\n",
       " ('Net Debt', '7,040,000', '7,525,000', '8,572,000', '8,334,000'),\n",
       " ('Share Issued', '420,962', '420,829', '420,667', '420,515'),\n",
       " ('Ordinary Shares Number', '343,891', '341,543', '343,865', '345,603'),\n",
       " ('Treasury Shares Number', '77,072', '79,286', '76,801', '74,912')]"
      ]
     },
     "execution_count": 43,
     "metadata": {},
     "output_type": "execute_result"
    }
   ],
   "source": [
    "final_data1"
   ]
  },
  {
   "cell_type": "code",
   "execution_count": 46,
   "id": "included-angle",
   "metadata": {},
   "outputs": [
    {
     "data": {
      "text/html": [
       "<div>\n",
       "<style scoped>\n",
       "    .dataframe tbody tr th:only-of-type {\n",
       "        vertical-align: middle;\n",
       "    }\n",
       "\n",
       "    .dataframe tbody tr th {\n",
       "        vertical-align: top;\n",
       "    }\n",
       "\n",
       "    .dataframe thead th {\n",
       "        text-align: right;\n",
       "    }\n",
       "</style>\n",
       "<table border=\"1\" class=\"dataframe\">\n",
       "  <thead>\n",
       "    <tr style=\"text-align: right;\">\n",
       "      <th></th>\n",
       "      <th>12/31/2020</th>\n",
       "      <th>12/31/2019</th>\n",
       "      <th>12/31/2018</th>\n",
       "      <th>12/31/2017</th>\n",
       "    </tr>\n",
       "    <tr>\n",
       "      <th>0</th>\n",
       "      <th></th>\n",
       "      <th></th>\n",
       "      <th></th>\n",
       "      <th></th>\n",
       "    </tr>\n",
       "  </thead>\n",
       "  <tbody>\n",
       "    <tr>\n",
       "      <th>Total Assets</th>\n",
       "      <td>17,996,000</td>\n",
       "      <td>17,564,000</td>\n",
       "      <td>17,780,000</td>\n",
       "      <td>16,350,000</td>\n",
       "    </tr>\n",
       "    <tr>\n",
       "      <th>Total Liabilities Net Minority Interest</th>\n",
       "      <td>14,360,000</td>\n",
       "      <td>14,250,000</td>\n",
       "      <td>14,621,000</td>\n",
       "      <td>14,122,000</td>\n",
       "    </tr>\n",
       "    <tr>\n",
       "      <th>Total Equity Gross Minority Interest</th>\n",
       "      <td>3,636,000</td>\n",
       "      <td>3,314,000</td>\n",
       "      <td>3,159,000</td>\n",
       "      <td>2,228,000</td>\n",
       "    </tr>\n",
       "    <tr>\n",
       "      <th>Total Capitalization</th>\n",
       "      <td>9,858,000</td>\n",
       "      <td>9,942,000</td>\n",
       "      <td>10,808,000</td>\n",
       "      <td>10,048,000</td>\n",
       "    </tr>\n",
       "    <tr>\n",
       "      <th>Common Stock Equity</th>\n",
       "      <td>3,112,000</td>\n",
       "      <td>2,747,000</td>\n",
       "      <td>2,601,000</td>\n",
       "      <td>2,212,000</td>\n",
       "    </tr>\n",
       "    <tr>\n",
       "      <th>Capital Lease Obligations</th>\n",
       "      <td>637,000</td>\n",
       "      <td>547,000</td>\n",
       "      <td>-</td>\n",
       "      <td>-</td>\n",
       "    </tr>\n",
       "    <tr>\n",
       "      <th>Net Tangible Assets</th>\n",
       "      <td>-5,178,000</td>\n",
       "      <td>-5,690,000</td>\n",
       "      <td>-6,810,000</td>\n",
       "      <td>-5,931,000</td>\n",
       "    </tr>\n",
       "    <tr>\n",
       "      <th>Working Capital</th>\n",
       "      <td>-1,756,000</td>\n",
       "      <td>-1,347,000</td>\n",
       "      <td>-1,372,000</td>\n",
       "      <td>-1,443,000</td>\n",
       "    </tr>\n",
       "    <tr>\n",
       "      <th>Invested Capital</th>\n",
       "      <td>10,587,000</td>\n",
       "      <td>10,669,000</td>\n",
       "      <td>11,494,000</td>\n",
       "      <td>10,827,000</td>\n",
       "    </tr>\n",
       "    <tr>\n",
       "      <th>Tangible Book Value</th>\n",
       "      <td>-5,178,000</td>\n",
       "      <td>-5,690,000</td>\n",
       "      <td>-6,810,000</td>\n",
       "      <td>-5,931,000</td>\n",
       "    </tr>\n",
       "    <tr>\n",
       "      <th>Total Debt</th>\n",
       "      <td>8,112,000</td>\n",
       "      <td>8,469,000</td>\n",
       "      <td>8,893,000</td>\n",
       "      <td>8,615,000</td>\n",
       "    </tr>\n",
       "    <tr>\n",
       "      <th>Net Debt</th>\n",
       "      <td>7,040,000</td>\n",
       "      <td>7,525,000</td>\n",
       "      <td>8,572,000</td>\n",
       "      <td>8,334,000</td>\n",
       "    </tr>\n",
       "    <tr>\n",
       "      <th>Share Issued</th>\n",
       "      <td>420,962</td>\n",
       "      <td>420,829</td>\n",
       "      <td>420,667</td>\n",
       "      <td>420,515</td>\n",
       "    </tr>\n",
       "    <tr>\n",
       "      <th>Ordinary Shares Number</th>\n",
       "      <td>343,891</td>\n",
       "      <td>341,543</td>\n",
       "      <td>343,865</td>\n",
       "      <td>345,603</td>\n",
       "    </tr>\n",
       "    <tr>\n",
       "      <th>Treasury Shares Number</th>\n",
       "      <td>77,072</td>\n",
       "      <td>79,286</td>\n",
       "      <td>76,801</td>\n",
       "      <td>74,912</td>\n",
       "    </tr>\n",
       "  </tbody>\n",
       "</table>\n",
       "</div>"
      ],
      "text/plain": [
       "                                         12/31/2020  12/31/2019  12/31/2018  \\\n",
       "0                                                                             \n",
       "Total Assets                             17,996,000  17,564,000  17,780,000   \n",
       "Total Liabilities Net Minority Interest  14,360,000  14,250,000  14,621,000   \n",
       "Total Equity Gross Minority Interest      3,636,000   3,314,000   3,159,000   \n",
       "Total Capitalization                      9,858,000   9,942,000  10,808,000   \n",
       "Common Stock Equity                       3,112,000   2,747,000   2,601,000   \n",
       "Capital Lease Obligations                   637,000     547,000           -   \n",
       "Net Tangible Assets                      -5,178,000  -5,690,000  -6,810,000   \n",
       "Working Capital                          -1,756,000  -1,347,000  -1,372,000   \n",
       "Invested Capital                         10,587,000  10,669,000  11,494,000   \n",
       "Tangible Book Value                      -5,178,000  -5,690,000  -6,810,000   \n",
       "Total Debt                                8,112,000   8,469,000   8,893,000   \n",
       "Net Debt                                  7,040,000   7,525,000   8,572,000   \n",
       "Share Issued                                420,962     420,829     420,667   \n",
       "Ordinary Shares Number                      343,891     341,543     343,865   \n",
       "Treasury Shares Number                       77,072      79,286      76,801   \n",
       "\n",
       "                                         12/31/2017  \n",
       "0                                                    \n",
       "Total Assets                             16,350,000  \n",
       "Total Liabilities Net Minority Interest  14,122,000  \n",
       "Total Equity Gross Minority Interest      2,228,000  \n",
       "Total Capitalization                     10,048,000  \n",
       "Common Stock Equity                       2,212,000  \n",
       "Capital Lease Obligations                         -  \n",
       "Net Tangible Assets                      -5,931,000  \n",
       "Working Capital                          -1,443,000  \n",
       "Invested Capital                         10,827,000  \n",
       "Tangible Book Value                      -5,931,000  \n",
       "Total Debt                                8,615,000  \n",
       "Net Debt                                  8,334,000  \n",
       "Share Issued                                420,515  \n",
       "Ordinary Shares Number                      345,603  \n",
       "Treasury Shares Number                       74,912  "
      ]
     },
     "execution_count": 46,
     "metadata": {},
     "output_type": "execute_result"
    }
   ],
   "source": [
    "fg.columns = headers[1:5]\n",
    "fg"
   ]
  },
  {
   "cell_type": "code",
   "execution_count": 47,
   "id": "engaging-river",
   "metadata": {},
   "outputs": [
    {
     "data": {
      "text/html": [
       "<div>\n",
       "<style scoped>\n",
       "    .dataframe tbody tr th:only-of-type {\n",
       "        vertical-align: middle;\n",
       "    }\n",
       "\n",
       "    .dataframe tbody tr th {\n",
       "        vertical-align: top;\n",
       "    }\n",
       "\n",
       "    .dataframe thead th {\n",
       "        text-align: right;\n",
       "    }\n",
       "</style>\n",
       "<table border=\"1\" class=\"dataframe\">\n",
       "  <thead>\n",
       "    <tr style=\"text-align: right;\">\n",
       "      <th></th>\n",
       "      <th>12/31/2020</th>\n",
       "      <th>12/31/2019</th>\n",
       "      <th>12/31/2018</th>\n",
       "      <th>12/31/2017</th>\n",
       "    </tr>\n",
       "    <tr>\n",
       "      <th>Breakdown</th>\n",
       "      <th></th>\n",
       "      <th></th>\n",
       "      <th></th>\n",
       "      <th></th>\n",
       "    </tr>\n",
       "  </thead>\n",
       "  <tbody>\n",
       "    <tr>\n",
       "      <th>Total Assets</th>\n",
       "      <td>17,996,000</td>\n",
       "      <td>17,564,000</td>\n",
       "      <td>17,780,000</td>\n",
       "      <td>16,350,000</td>\n",
       "    </tr>\n",
       "    <tr>\n",
       "      <th>Total Liabilities Net Minority Interest</th>\n",
       "      <td>14,360,000</td>\n",
       "      <td>14,250,000</td>\n",
       "      <td>14,621,000</td>\n",
       "      <td>14,122,000</td>\n",
       "    </tr>\n",
       "    <tr>\n",
       "      <th>Total Equity Gross Minority Interest</th>\n",
       "      <td>3,636,000</td>\n",
       "      <td>3,314,000</td>\n",
       "      <td>3,159,000</td>\n",
       "      <td>2,228,000</td>\n",
       "    </tr>\n",
       "    <tr>\n",
       "      <th>Total Capitalization</th>\n",
       "      <td>9,858,000</td>\n",
       "      <td>9,942,000</td>\n",
       "      <td>10,808,000</td>\n",
       "      <td>10,048,000</td>\n",
       "    </tr>\n",
       "    <tr>\n",
       "      <th>Common Stock Equity</th>\n",
       "      <td>3,112,000</td>\n",
       "      <td>2,747,000</td>\n",
       "      <td>2,601,000</td>\n",
       "      <td>2,212,000</td>\n",
       "    </tr>\n",
       "    <tr>\n",
       "      <th>Capital Lease Obligations</th>\n",
       "      <td>637,000</td>\n",
       "      <td>547,000</td>\n",
       "      <td>-</td>\n",
       "      <td>-</td>\n",
       "    </tr>\n",
       "    <tr>\n",
       "      <th>Net Tangible Assets</th>\n",
       "      <td>-5,178,000</td>\n",
       "      <td>-5,690,000</td>\n",
       "      <td>-6,810,000</td>\n",
       "      <td>-5,931,000</td>\n",
       "    </tr>\n",
       "    <tr>\n",
       "      <th>Working Capital</th>\n",
       "      <td>-1,756,000</td>\n",
       "      <td>-1,347,000</td>\n",
       "      <td>-1,372,000</td>\n",
       "      <td>-1,443,000</td>\n",
       "    </tr>\n",
       "    <tr>\n",
       "      <th>Invested Capital</th>\n",
       "      <td>10,587,000</td>\n",
       "      <td>10,669,000</td>\n",
       "      <td>11,494,000</td>\n",
       "      <td>10,827,000</td>\n",
       "    </tr>\n",
       "    <tr>\n",
       "      <th>Tangible Book Value</th>\n",
       "      <td>-5,178,000</td>\n",
       "      <td>-5,690,000</td>\n",
       "      <td>-6,810,000</td>\n",
       "      <td>-5,931,000</td>\n",
       "    </tr>\n",
       "    <tr>\n",
       "      <th>Total Debt</th>\n",
       "      <td>8,112,000</td>\n",
       "      <td>8,469,000</td>\n",
       "      <td>8,893,000</td>\n",
       "      <td>8,615,000</td>\n",
       "    </tr>\n",
       "    <tr>\n",
       "      <th>Net Debt</th>\n",
       "      <td>7,040,000</td>\n",
       "      <td>7,525,000</td>\n",
       "      <td>8,572,000</td>\n",
       "      <td>8,334,000</td>\n",
       "    </tr>\n",
       "    <tr>\n",
       "      <th>Share Issued</th>\n",
       "      <td>420,962</td>\n",
       "      <td>420,829</td>\n",
       "      <td>420,667</td>\n",
       "      <td>420,515</td>\n",
       "    </tr>\n",
       "    <tr>\n",
       "      <th>Ordinary Shares Number</th>\n",
       "      <td>343,891</td>\n",
       "      <td>341,543</td>\n",
       "      <td>343,865</td>\n",
       "      <td>345,603</td>\n",
       "    </tr>\n",
       "    <tr>\n",
       "      <th>Treasury Shares Number</th>\n",
       "      <td>77,072</td>\n",
       "      <td>79,286</td>\n",
       "      <td>76,801</td>\n",
       "      <td>74,912</td>\n",
       "    </tr>\n",
       "  </tbody>\n",
       "</table>\n",
       "</div>"
      ],
      "text/plain": [
       "                                         12/31/2020  12/31/2019  12/31/2018  \\\n",
       "Breakdown                                                                     \n",
       "Total Assets                             17,996,000  17,564,000  17,780,000   \n",
       "Total Liabilities Net Minority Interest  14,360,000  14,250,000  14,621,000   \n",
       "Total Equity Gross Minority Interest      3,636,000   3,314,000   3,159,000   \n",
       "Total Capitalization                      9,858,000   9,942,000  10,808,000   \n",
       "Common Stock Equity                       3,112,000   2,747,000   2,601,000   \n",
       "Capital Lease Obligations                   637,000     547,000           -   \n",
       "Net Tangible Assets                      -5,178,000  -5,690,000  -6,810,000   \n",
       "Working Capital                          -1,756,000  -1,347,000  -1,372,000   \n",
       "Invested Capital                         10,587,000  10,669,000  11,494,000   \n",
       "Tangible Book Value                      -5,178,000  -5,690,000  -6,810,000   \n",
       "Total Debt                                8,112,000   8,469,000   8,893,000   \n",
       "Net Debt                                  7,040,000   7,525,000   8,572,000   \n",
       "Share Issued                                420,962     420,829     420,667   \n",
       "Ordinary Shares Number                      343,891     341,543     343,865   \n",
       "Treasury Shares Number                       77,072      79,286      76,801   \n",
       "\n",
       "                                         12/31/2017  \n",
       "Breakdown                                            \n",
       "Total Assets                             16,350,000  \n",
       "Total Liabilities Net Minority Interest  14,122,000  \n",
       "Total Equity Gross Minority Interest      2,228,000  \n",
       "Total Capitalization                     10,048,000  \n",
       "Common Stock Equity                       2,212,000  \n",
       "Capital Lease Obligations                         -  \n",
       "Net Tangible Assets                      -5,931,000  \n",
       "Working Capital                          -1,443,000  \n",
       "Invested Capital                         10,827,000  \n",
       "Tangible Book Value                      -5,931,000  \n",
       "Total Debt                                8,615,000  \n",
       "Net Debt                                  8,334,000  \n",
       "Share Issued                                420,515  \n",
       "Ordinary Shares Number                      345,603  \n",
       "Treasury Shares Number                       74,912  "
      ]
     },
     "execution_count": 47,
     "metadata": {},
     "output_type": "execute_result"
    }
   ],
   "source": [
    "fg.index.name = headers[0]\n",
    "fg"
   ]
  },
  {
   "cell_type": "code",
   "execution_count": 58,
   "id": "broadband-ethics",
   "metadata": {},
   "outputs": [
    {
     "data": {
      "text/html": [
       "<div>\n",
       "<style scoped>\n",
       "    .dataframe tbody tr th:only-of-type {\n",
       "        vertical-align: middle;\n",
       "    }\n",
       "\n",
       "    .dataframe tbody tr th {\n",
       "        vertical-align: top;\n",
       "    }\n",
       "\n",
       "    .dataframe thead th {\n",
       "        text-align: right;\n",
       "    }\n",
       "</style>\n",
       "<table border=\"1\" class=\"dataframe\">\n",
       "  <thead>\n",
       "    <tr style=\"text-align: right;\">\n",
       "      <th></th>\n",
       "      <th>12/31/2020</th>\n",
       "      <th>12/31/2019</th>\n",
       "      <th>12/31/2018</th>\n",
       "      <th>12/31/2017</th>\n",
       "    </tr>\n",
       "    <tr>\n",
       "      <th>Breakdown</th>\n",
       "      <th></th>\n",
       "      <th></th>\n",
       "      <th></th>\n",
       "      <th></th>\n",
       "    </tr>\n",
       "  </thead>\n",
       "  <tbody>\n",
       "    <tr>\n",
       "      <th>Total Assets</th>\n",
       "      <td>17996000</td>\n",
       "      <td>17564000</td>\n",
       "      <td>17780000.0</td>\n",
       "      <td>16350000.0</td>\n",
       "    </tr>\n",
       "    <tr>\n",
       "      <th>Total Liabilities Net Minority Interest</th>\n",
       "      <td>14360000</td>\n",
       "      <td>14250000</td>\n",
       "      <td>14621000.0</td>\n",
       "      <td>14122000.0</td>\n",
       "    </tr>\n",
       "    <tr>\n",
       "      <th>Total Equity Gross Minority Interest</th>\n",
       "      <td>3636000</td>\n",
       "      <td>3314000</td>\n",
       "      <td>3159000.0</td>\n",
       "      <td>2228000.0</td>\n",
       "    </tr>\n",
       "    <tr>\n",
       "      <th>Total Capitalization</th>\n",
       "      <td>9858000</td>\n",
       "      <td>9942000</td>\n",
       "      <td>10808000.0</td>\n",
       "      <td>10048000.0</td>\n",
       "    </tr>\n",
       "    <tr>\n",
       "      <th>Common Stock Equity</th>\n",
       "      <td>3112000</td>\n",
       "      <td>2747000</td>\n",
       "      <td>2601000.0</td>\n",
       "      <td>2212000.0</td>\n",
       "    </tr>\n",
       "    <tr>\n",
       "      <th>Capital Lease Obligations</th>\n",
       "      <td>637000</td>\n",
       "      <td>547000</td>\n",
       "      <td>NaN</td>\n",
       "      <td>NaN</td>\n",
       "    </tr>\n",
       "    <tr>\n",
       "      <th>Net Tangible Assets</th>\n",
       "      <td>5178000</td>\n",
       "      <td>5690000</td>\n",
       "      <td>6810000.0</td>\n",
       "      <td>5931000.0</td>\n",
       "    </tr>\n",
       "    <tr>\n",
       "      <th>Working Capital</th>\n",
       "      <td>1756000</td>\n",
       "      <td>1347000</td>\n",
       "      <td>1372000.0</td>\n",
       "      <td>1443000.0</td>\n",
       "    </tr>\n",
       "    <tr>\n",
       "      <th>Invested Capital</th>\n",
       "      <td>10587000</td>\n",
       "      <td>10669000</td>\n",
       "      <td>11494000.0</td>\n",
       "      <td>10827000.0</td>\n",
       "    </tr>\n",
       "    <tr>\n",
       "      <th>Tangible Book Value</th>\n",
       "      <td>5178000</td>\n",
       "      <td>5690000</td>\n",
       "      <td>6810000.0</td>\n",
       "      <td>5931000.0</td>\n",
       "    </tr>\n",
       "    <tr>\n",
       "      <th>Total Debt</th>\n",
       "      <td>8112000</td>\n",
       "      <td>8469000</td>\n",
       "      <td>8893000.0</td>\n",
       "      <td>8615000.0</td>\n",
       "    </tr>\n",
       "    <tr>\n",
       "      <th>Net Debt</th>\n",
       "      <td>7040000</td>\n",
       "      <td>7525000</td>\n",
       "      <td>8572000.0</td>\n",
       "      <td>8334000.0</td>\n",
       "    </tr>\n",
       "    <tr>\n",
       "      <th>Share Issued</th>\n",
       "      <td>420962</td>\n",
       "      <td>420829</td>\n",
       "      <td>420667.0</td>\n",
       "      <td>420515.0</td>\n",
       "    </tr>\n",
       "    <tr>\n",
       "      <th>Ordinary Shares Number</th>\n",
       "      <td>343891</td>\n",
       "      <td>341543</td>\n",
       "      <td>343865.0</td>\n",
       "      <td>345603.0</td>\n",
       "    </tr>\n",
       "    <tr>\n",
       "      <th>Treasury Shares Number</th>\n",
       "      <td>77072</td>\n",
       "      <td>79286</td>\n",
       "      <td>76801.0</td>\n",
       "      <td>74912.0</td>\n",
       "    </tr>\n",
       "  </tbody>\n",
       "</table>\n",
       "</div>"
      ],
      "text/plain": [
       "                                         12/31/2020  12/31/2019  12/31/2018  \\\n",
       "Breakdown                                                                     \n",
       "Total Assets                               17996000    17564000  17780000.0   \n",
       "Total Liabilities Net Minority Interest    14360000    14250000  14621000.0   \n",
       "Total Equity Gross Minority Interest        3636000     3314000   3159000.0   \n",
       "Total Capitalization                        9858000     9942000  10808000.0   \n",
       "Common Stock Equity                         3112000     2747000   2601000.0   \n",
       "Capital Lease Obligations                    637000      547000         NaN   \n",
       "Net Tangible Assets                         5178000     5690000   6810000.0   \n",
       "Working Capital                             1756000     1347000   1372000.0   \n",
       "Invested Capital                           10587000    10669000  11494000.0   \n",
       "Tangible Book Value                         5178000     5690000   6810000.0   \n",
       "Total Debt                                  8112000     8469000   8893000.0   \n",
       "Net Debt                                    7040000     7525000   8572000.0   \n",
       "Share Issued                                 420962      420829    420667.0   \n",
       "Ordinary Shares Number                       343891      341543    343865.0   \n",
       "Treasury Shares Number                        77072       79286     76801.0   \n",
       "\n",
       "                                         12/31/2017  \n",
       "Breakdown                                            \n",
       "Total Assets                             16350000.0  \n",
       "Total Liabilities Net Minority Interest  14122000.0  \n",
       "Total Equity Gross Minority Interest      2228000.0  \n",
       "Total Capitalization                     10048000.0  \n",
       "Common Stock Equity                       2212000.0  \n",
       "Capital Lease Obligations                       NaN  \n",
       "Net Tangible Assets                       5931000.0  \n",
       "Working Capital                           1443000.0  \n",
       "Invested Capital                         10827000.0  \n",
       "Tangible Book Value                       5931000.0  \n",
       "Total Debt                                8615000.0  \n",
       "Net Debt                                  8334000.0  \n",
       "Share Issued                               420515.0  \n",
       "Ordinary Shares Number                     345603.0  \n",
       "Treasury Shares Number                      74912.0  "
      ]
     },
     "execution_count": 58,
     "metadata": {},
     "output_type": "execute_result"
    }
   ],
   "source": [
    "import pandas as pd\n",
    "def convert_to_numeric(column):\n",
    "    first_col = [i.replace(',','') for i in column]\n",
    "    second_col = [i.replace('-','') for i in first_col]\n",
    "    final_col = pd.to_numeric(second_col)\n",
    "\n",
    "    return final_col\n",
    "\n",
    "for column in headers[1:5]:\n",
    "    if not pd.api.types.is_numeric_dtype(fg[column]):\n",
    "        \n",
    "        fg[column] = convert_to_numeric(fg[column])\n",
    "final_df = fg\n",
    "final_df"
   ]
  },
  {
   "cell_type": "code",
   "execution_count": 55,
   "id": "terminal-mercy",
   "metadata": {},
   "outputs": [],
   "source": [
    "import plotly.express as px"
   ]
  },
  {
   "cell_type": "code",
   "execution_count": 69,
   "id": "changed-joining",
   "metadata": {},
   "outputs": [
    {
     "data": {
      "application/vnd.plotly.v1+json": {
       "config": {
        "plotlyServerURL": "https://plot.ly"
       },
       "data": [
        {
         "alignmentgroup": "True",
         "hovertemplate": "variable=12/31/2020<br>Breakdown=%{x}<br>value=%{y}<extra></extra>",
         "legendgroup": "12/31/2020",
         "marker": {
          "color": "#636efa"
         },
         "name": "12/31/2020",
         "offsetgroup": "12/31/2020",
         "orientation": "v",
         "showlegend": true,
         "textposition": "auto",
         "type": "bar",
         "x": [
          "Total Assets",
          "Total Liabilities Net Minority Interest",
          "Total Equity Gross Minority Interest",
          "Total Capitalization",
          "Common Stock Equity",
          "Capital Lease Obligations",
          "Net Tangible Assets",
          "Working Capital",
          "Invested Capital",
          "Tangible Book Value",
          "Total Debt",
          "Net Debt",
          "Share Issued",
          "Ordinary Shares Number",
          "Treasury Shares Number"
         ],
         "xaxis": "x",
         "y": [
          17996000,
          14360000,
          3636000,
          9858000,
          3112000,
          637000,
          5178000,
          1756000,
          10587000,
          5178000,
          8112000,
          7040000,
          420962,
          343891,
          77072
         ],
         "yaxis": "y"
        },
        {
         "alignmentgroup": "True",
         "hovertemplate": "variable=12/31/2019<br>Breakdown=%{x}<br>value=%{y}<extra></extra>",
         "legendgroup": "12/31/2019",
         "marker": {
          "color": "#EF553B"
         },
         "name": "12/31/2019",
         "offsetgroup": "12/31/2019",
         "orientation": "v",
         "showlegend": true,
         "textposition": "auto",
         "type": "bar",
         "x": [
          "Total Assets",
          "Total Liabilities Net Minority Interest",
          "Total Equity Gross Minority Interest",
          "Total Capitalization",
          "Common Stock Equity",
          "Capital Lease Obligations",
          "Net Tangible Assets",
          "Working Capital",
          "Invested Capital",
          "Tangible Book Value",
          "Total Debt",
          "Net Debt",
          "Share Issued",
          "Ordinary Shares Number",
          "Treasury Shares Number"
         ],
         "xaxis": "x",
         "y": [
          17564000,
          14250000,
          3314000,
          9942000,
          2747000,
          547000,
          5690000,
          1347000,
          10669000,
          5690000,
          8469000,
          7525000,
          420829,
          341543,
          79286
         ],
         "yaxis": "y"
        },
        {
         "alignmentgroup": "True",
         "hovertemplate": "variable=12/31/2018<br>Breakdown=%{x}<br>value=%{y}<extra></extra>",
         "legendgroup": "12/31/2018",
         "marker": {
          "color": "#00cc96"
         },
         "name": "12/31/2018",
         "offsetgroup": "12/31/2018",
         "orientation": "v",
         "showlegend": true,
         "textposition": "auto",
         "type": "bar",
         "x": [
          "Total Assets",
          "Total Liabilities Net Minority Interest",
          "Total Equity Gross Minority Interest",
          "Total Capitalization",
          "Common Stock Equity",
          "Capital Lease Obligations",
          "Net Tangible Assets",
          "Working Capital",
          "Invested Capital",
          "Tangible Book Value",
          "Total Debt",
          "Net Debt",
          "Share Issued",
          "Ordinary Shares Number",
          "Treasury Shares Number"
         ],
         "xaxis": "x",
         "y": [
          17780000,
          14621000,
          3159000,
          10808000,
          2601000,
          null,
          6810000,
          1372000,
          11494000,
          6810000,
          8893000,
          8572000,
          420667,
          343865,
          76801
         ],
         "yaxis": "y"
        },
        {
         "alignmentgroup": "True",
         "hovertemplate": "variable=12/31/2017<br>Breakdown=%{x}<br>value=%{y}<extra></extra>",
         "legendgroup": "12/31/2017",
         "marker": {
          "color": "#ab63fa"
         },
         "name": "12/31/2017",
         "offsetgroup": "12/31/2017",
         "orientation": "v",
         "showlegend": true,
         "textposition": "auto",
         "type": "bar",
         "x": [
          "Total Assets",
          "Total Liabilities Net Minority Interest",
          "Total Equity Gross Minority Interest",
          "Total Capitalization",
          "Common Stock Equity",
          "Capital Lease Obligations",
          "Net Tangible Assets",
          "Working Capital",
          "Invested Capital",
          "Tangible Book Value",
          "Total Debt",
          "Net Debt",
          "Share Issued",
          "Ordinary Shares Number",
          "Treasury Shares Number"
         ],
         "xaxis": "x",
         "y": [
          16350000,
          14122000,
          2228000,
          10048000,
          2212000,
          null,
          5931000,
          1443000,
          10827000,
          5931000,
          8615000,
          8334000,
          420515,
          345603,
          74912
         ],
         "yaxis": "y"
        }
       ],
       "layout": {
        "barmode": "group",
        "legend": {
         "title": {
          "text": "variable"
         },
         "tracegroupgap": 0
        },
        "template": {
         "data": {
          "bar": [
           {
            "error_x": {
             "color": "#2a3f5f"
            },
            "error_y": {
             "color": "#2a3f5f"
            },
            "marker": {
             "line": {
              "color": "#E5ECF6",
              "width": 0.5
             }
            },
            "type": "bar"
           }
          ],
          "barpolar": [
           {
            "marker": {
             "line": {
              "color": "#E5ECF6",
              "width": 0.5
             }
            },
            "type": "barpolar"
           }
          ],
          "carpet": [
           {
            "aaxis": {
             "endlinecolor": "#2a3f5f",
             "gridcolor": "white",
             "linecolor": "white",
             "minorgridcolor": "white",
             "startlinecolor": "#2a3f5f"
            },
            "baxis": {
             "endlinecolor": "#2a3f5f",
             "gridcolor": "white",
             "linecolor": "white",
             "minorgridcolor": "white",
             "startlinecolor": "#2a3f5f"
            },
            "type": "carpet"
           }
          ],
          "choropleth": [
           {
            "colorbar": {
             "outlinewidth": 0,
             "ticks": ""
            },
            "type": "choropleth"
           }
          ],
          "contour": [
           {
            "colorbar": {
             "outlinewidth": 0,
             "ticks": ""
            },
            "colorscale": [
             [
              0,
              "#0d0887"
             ],
             [
              0.1111111111111111,
              "#46039f"
             ],
             [
              0.2222222222222222,
              "#7201a8"
             ],
             [
              0.3333333333333333,
              "#9c179e"
             ],
             [
              0.4444444444444444,
              "#bd3786"
             ],
             [
              0.5555555555555556,
              "#d8576b"
             ],
             [
              0.6666666666666666,
              "#ed7953"
             ],
             [
              0.7777777777777778,
              "#fb9f3a"
             ],
             [
              0.8888888888888888,
              "#fdca26"
             ],
             [
              1,
              "#f0f921"
             ]
            ],
            "type": "contour"
           }
          ],
          "contourcarpet": [
           {
            "colorbar": {
             "outlinewidth": 0,
             "ticks": ""
            },
            "type": "contourcarpet"
           }
          ],
          "heatmap": [
           {
            "colorbar": {
             "outlinewidth": 0,
             "ticks": ""
            },
            "colorscale": [
             [
              0,
              "#0d0887"
             ],
             [
              0.1111111111111111,
              "#46039f"
             ],
             [
              0.2222222222222222,
              "#7201a8"
             ],
             [
              0.3333333333333333,
              "#9c179e"
             ],
             [
              0.4444444444444444,
              "#bd3786"
             ],
             [
              0.5555555555555556,
              "#d8576b"
             ],
             [
              0.6666666666666666,
              "#ed7953"
             ],
             [
              0.7777777777777778,
              "#fb9f3a"
             ],
             [
              0.8888888888888888,
              "#fdca26"
             ],
             [
              1,
              "#f0f921"
             ]
            ],
            "type": "heatmap"
           }
          ],
          "heatmapgl": [
           {
            "colorbar": {
             "outlinewidth": 0,
             "ticks": ""
            },
            "colorscale": [
             [
              0,
              "#0d0887"
             ],
             [
              0.1111111111111111,
              "#46039f"
             ],
             [
              0.2222222222222222,
              "#7201a8"
             ],
             [
              0.3333333333333333,
              "#9c179e"
             ],
             [
              0.4444444444444444,
              "#bd3786"
             ],
             [
              0.5555555555555556,
              "#d8576b"
             ],
             [
              0.6666666666666666,
              "#ed7953"
             ],
             [
              0.7777777777777778,
              "#fb9f3a"
             ],
             [
              0.8888888888888888,
              "#fdca26"
             ],
             [
              1,
              "#f0f921"
             ]
            ],
            "type": "heatmapgl"
           }
          ],
          "histogram": [
           {
            "marker": {
             "colorbar": {
              "outlinewidth": 0,
              "ticks": ""
             }
            },
            "type": "histogram"
           }
          ],
          "histogram2d": [
           {
            "colorbar": {
             "outlinewidth": 0,
             "ticks": ""
            },
            "colorscale": [
             [
              0,
              "#0d0887"
             ],
             [
              0.1111111111111111,
              "#46039f"
             ],
             [
              0.2222222222222222,
              "#7201a8"
             ],
             [
              0.3333333333333333,
              "#9c179e"
             ],
             [
              0.4444444444444444,
              "#bd3786"
             ],
             [
              0.5555555555555556,
              "#d8576b"
             ],
             [
              0.6666666666666666,
              "#ed7953"
             ],
             [
              0.7777777777777778,
              "#fb9f3a"
             ],
             [
              0.8888888888888888,
              "#fdca26"
             ],
             [
              1,
              "#f0f921"
             ]
            ],
            "type": "histogram2d"
           }
          ],
          "histogram2dcontour": [
           {
            "colorbar": {
             "outlinewidth": 0,
             "ticks": ""
            },
            "colorscale": [
             [
              0,
              "#0d0887"
             ],
             [
              0.1111111111111111,
              "#46039f"
             ],
             [
              0.2222222222222222,
              "#7201a8"
             ],
             [
              0.3333333333333333,
              "#9c179e"
             ],
             [
              0.4444444444444444,
              "#bd3786"
             ],
             [
              0.5555555555555556,
              "#d8576b"
             ],
             [
              0.6666666666666666,
              "#ed7953"
             ],
             [
              0.7777777777777778,
              "#fb9f3a"
             ],
             [
              0.8888888888888888,
              "#fdca26"
             ],
             [
              1,
              "#f0f921"
             ]
            ],
            "type": "histogram2dcontour"
           }
          ],
          "mesh3d": [
           {
            "colorbar": {
             "outlinewidth": 0,
             "ticks": ""
            },
            "type": "mesh3d"
           }
          ],
          "parcoords": [
           {
            "line": {
             "colorbar": {
              "outlinewidth": 0,
              "ticks": ""
             }
            },
            "type": "parcoords"
           }
          ],
          "pie": [
           {
            "automargin": true,
            "type": "pie"
           }
          ],
          "scatter": [
           {
            "marker": {
             "colorbar": {
              "outlinewidth": 0,
              "ticks": ""
             }
            },
            "type": "scatter"
           }
          ],
          "scatter3d": [
           {
            "line": {
             "colorbar": {
              "outlinewidth": 0,
              "ticks": ""
             }
            },
            "marker": {
             "colorbar": {
              "outlinewidth": 0,
              "ticks": ""
             }
            },
            "type": "scatter3d"
           }
          ],
          "scattercarpet": [
           {
            "marker": {
             "colorbar": {
              "outlinewidth": 0,
              "ticks": ""
             }
            },
            "type": "scattercarpet"
           }
          ],
          "scattergeo": [
           {
            "marker": {
             "colorbar": {
              "outlinewidth": 0,
              "ticks": ""
             }
            },
            "type": "scattergeo"
           }
          ],
          "scattergl": [
           {
            "marker": {
             "colorbar": {
              "outlinewidth": 0,
              "ticks": ""
             }
            },
            "type": "scattergl"
           }
          ],
          "scattermapbox": [
           {
            "marker": {
             "colorbar": {
              "outlinewidth": 0,
              "ticks": ""
             }
            },
            "type": "scattermapbox"
           }
          ],
          "scatterpolar": [
           {
            "marker": {
             "colorbar": {
              "outlinewidth": 0,
              "ticks": ""
             }
            },
            "type": "scatterpolar"
           }
          ],
          "scatterpolargl": [
           {
            "marker": {
             "colorbar": {
              "outlinewidth": 0,
              "ticks": ""
             }
            },
            "type": "scatterpolargl"
           }
          ],
          "scatterternary": [
           {
            "marker": {
             "colorbar": {
              "outlinewidth": 0,
              "ticks": ""
             }
            },
            "type": "scatterternary"
           }
          ],
          "surface": [
           {
            "colorbar": {
             "outlinewidth": 0,
             "ticks": ""
            },
            "colorscale": [
             [
              0,
              "#0d0887"
             ],
             [
              0.1111111111111111,
              "#46039f"
             ],
             [
              0.2222222222222222,
              "#7201a8"
             ],
             [
              0.3333333333333333,
              "#9c179e"
             ],
             [
              0.4444444444444444,
              "#bd3786"
             ],
             [
              0.5555555555555556,
              "#d8576b"
             ],
             [
              0.6666666666666666,
              "#ed7953"
             ],
             [
              0.7777777777777778,
              "#fb9f3a"
             ],
             [
              0.8888888888888888,
              "#fdca26"
             ],
             [
              1,
              "#f0f921"
             ]
            ],
            "type": "surface"
           }
          ],
          "table": [
           {
            "cells": {
             "fill": {
              "color": "#EBF0F8"
             },
             "line": {
              "color": "white"
             }
            },
            "header": {
             "fill": {
              "color": "#C8D4E3"
             },
             "line": {
              "color": "white"
             }
            },
            "type": "table"
           }
          ]
         },
         "layout": {
          "annotationdefaults": {
           "arrowcolor": "#2a3f5f",
           "arrowhead": 0,
           "arrowwidth": 1
          },
          "autotypenumbers": "strict",
          "coloraxis": {
           "colorbar": {
            "outlinewidth": 0,
            "ticks": ""
           }
          },
          "colorscale": {
           "diverging": [
            [
             0,
             "#8e0152"
            ],
            [
             0.1,
             "#c51b7d"
            ],
            [
             0.2,
             "#de77ae"
            ],
            [
             0.3,
             "#f1b6da"
            ],
            [
             0.4,
             "#fde0ef"
            ],
            [
             0.5,
             "#f7f7f7"
            ],
            [
             0.6,
             "#e6f5d0"
            ],
            [
             0.7,
             "#b8e186"
            ],
            [
             0.8,
             "#7fbc41"
            ],
            [
             0.9,
             "#4d9221"
            ],
            [
             1,
             "#276419"
            ]
           ],
           "sequential": [
            [
             0,
             "#0d0887"
            ],
            [
             0.1111111111111111,
             "#46039f"
            ],
            [
             0.2222222222222222,
             "#7201a8"
            ],
            [
             0.3333333333333333,
             "#9c179e"
            ],
            [
             0.4444444444444444,
             "#bd3786"
            ],
            [
             0.5555555555555556,
             "#d8576b"
            ],
            [
             0.6666666666666666,
             "#ed7953"
            ],
            [
             0.7777777777777778,
             "#fb9f3a"
            ],
            [
             0.8888888888888888,
             "#fdca26"
            ],
            [
             1,
             "#f0f921"
            ]
           ],
           "sequentialminus": [
            [
             0,
             "#0d0887"
            ],
            [
             0.1111111111111111,
             "#46039f"
            ],
            [
             0.2222222222222222,
             "#7201a8"
            ],
            [
             0.3333333333333333,
             "#9c179e"
            ],
            [
             0.4444444444444444,
             "#bd3786"
            ],
            [
             0.5555555555555556,
             "#d8576b"
            ],
            [
             0.6666666666666666,
             "#ed7953"
            ],
            [
             0.7777777777777778,
             "#fb9f3a"
            ],
            [
             0.8888888888888888,
             "#fdca26"
            ],
            [
             1,
             "#f0f921"
            ]
           ]
          },
          "colorway": [
           "#636efa",
           "#EF553B",
           "#00cc96",
           "#ab63fa",
           "#FFA15A",
           "#19d3f3",
           "#FF6692",
           "#B6E880",
           "#FF97FF",
           "#FECB52"
          ],
          "font": {
           "color": "#2a3f5f"
          },
          "geo": {
           "bgcolor": "white",
           "lakecolor": "white",
           "landcolor": "#E5ECF6",
           "showlakes": true,
           "showland": true,
           "subunitcolor": "white"
          },
          "hoverlabel": {
           "align": "left"
          },
          "hovermode": "closest",
          "mapbox": {
           "style": "light"
          },
          "paper_bgcolor": "white",
          "plot_bgcolor": "#E5ECF6",
          "polar": {
           "angularaxis": {
            "gridcolor": "white",
            "linecolor": "white",
            "ticks": ""
           },
           "bgcolor": "#E5ECF6",
           "radialaxis": {
            "gridcolor": "white",
            "linecolor": "white",
            "ticks": ""
           }
          },
          "scene": {
           "xaxis": {
            "backgroundcolor": "#E5ECF6",
            "gridcolor": "white",
            "gridwidth": 2,
            "linecolor": "white",
            "showbackground": true,
            "ticks": "",
            "zerolinecolor": "white"
           },
           "yaxis": {
            "backgroundcolor": "#E5ECF6",
            "gridcolor": "white",
            "gridwidth": 2,
            "linecolor": "white",
            "showbackground": true,
            "ticks": "",
            "zerolinecolor": "white"
           },
           "zaxis": {
            "backgroundcolor": "#E5ECF6",
            "gridcolor": "white",
            "gridwidth": 2,
            "linecolor": "white",
            "showbackground": true,
            "ticks": "",
            "zerolinecolor": "white"
           }
          },
          "shapedefaults": {
           "line": {
            "color": "#2a3f5f"
           }
          },
          "ternary": {
           "aaxis": {
            "gridcolor": "white",
            "linecolor": "white",
            "ticks": ""
           },
           "baxis": {
            "gridcolor": "white",
            "linecolor": "white",
            "ticks": ""
           },
           "bgcolor": "#E5ECF6",
           "caxis": {
            "gridcolor": "white",
            "linecolor": "white",
            "ticks": ""
           }
          },
          "title": {
           "x": 0.05
          },
          "xaxis": {
           "automargin": true,
           "gridcolor": "white",
           "linecolor": "white",
           "ticks": "",
           "title": {
            "standoff": 15
           },
           "zerolinecolor": "white",
           "zerolinewidth": 2
          },
          "yaxis": {
           "automargin": true,
           "gridcolor": "white",
           "linecolor": "white",
           "ticks": "",
           "title": {
            "standoff": 15
           },
           "zerolinecolor": "white",
           "zerolinewidth": 2
          }
         }
        },
        "title": {
         "text": "Kellog Company Balance Sheet for the last 4 years"
        },
        "width": 1500,
        "xaxis": {
         "anchor": "y",
         "domain": [
          0,
          1
         ],
         "title": {
          "text": "Breakdown"
         }
        },
        "yaxis": {
         "anchor": "x",
         "domain": [
          0,
          1
         ],
         "title": {
          "text": "value"
         }
        }
       }
      },
      "text/html": [
       "<div>                            <div id=\"3ff754ef-30e3-48c1-b07e-90a915888820\" class=\"plotly-graph-div\" style=\"height:525px; width:1500px;\"></div>            <script type=\"text/javascript\">                require([\"plotly\"], function(Plotly) {                    window.PLOTLYENV=window.PLOTLYENV || {};                                    if (document.getElementById(\"3ff754ef-30e3-48c1-b07e-90a915888820\")) {                    Plotly.newPlot(                        \"3ff754ef-30e3-48c1-b07e-90a915888820\",                        [{\"alignmentgroup\": \"True\", \"hovertemplate\": \"variable=12/31/2020<br>Breakdown=%{x}<br>value=%{y}<extra></extra>\", \"legendgroup\": \"12/31/2020\", \"marker\": {\"color\": \"#636efa\"}, \"name\": \"12/31/2020\", \"offsetgroup\": \"12/31/2020\", \"orientation\": \"v\", \"showlegend\": true, \"textposition\": \"auto\", \"type\": \"bar\", \"x\": [\"Total Assets\", \"Total Liabilities Net Minority Interest\", \"Total Equity Gross Minority Interest\", \"Total Capitalization\", \"Common Stock Equity\", \"Capital Lease Obligations\", \"Net Tangible Assets\", \"Working Capital\", \"Invested Capital\", \"Tangible Book Value\", \"Total Debt\", \"Net Debt\", \"Share Issued\", \"Ordinary Shares Number\", \"Treasury Shares Number\"], \"xaxis\": \"x\", \"y\": [17996000.0, 14360000.0, 3636000.0, 9858000.0, 3112000.0, 637000.0, 5178000.0, 1756000.0, 10587000.0, 5178000.0, 8112000.0, 7040000.0, 420962.0, 343891.0, 77072.0], \"yaxis\": \"y\"}, {\"alignmentgroup\": \"True\", \"hovertemplate\": \"variable=12/31/2019<br>Breakdown=%{x}<br>value=%{y}<extra></extra>\", \"legendgroup\": \"12/31/2019\", \"marker\": {\"color\": \"#EF553B\"}, \"name\": \"12/31/2019\", \"offsetgroup\": \"12/31/2019\", \"orientation\": \"v\", \"showlegend\": true, \"textposition\": \"auto\", \"type\": \"bar\", \"x\": [\"Total Assets\", \"Total Liabilities Net Minority Interest\", \"Total Equity Gross Minority Interest\", \"Total Capitalization\", \"Common Stock Equity\", \"Capital Lease Obligations\", \"Net Tangible Assets\", \"Working Capital\", \"Invested Capital\", \"Tangible Book Value\", \"Total Debt\", \"Net Debt\", \"Share Issued\", \"Ordinary Shares Number\", \"Treasury Shares Number\"], \"xaxis\": \"x\", \"y\": [17564000.0, 14250000.0, 3314000.0, 9942000.0, 2747000.0, 547000.0, 5690000.0, 1347000.0, 10669000.0, 5690000.0, 8469000.0, 7525000.0, 420829.0, 341543.0, 79286.0], \"yaxis\": \"y\"}, {\"alignmentgroup\": \"True\", \"hovertemplate\": \"variable=12/31/2018<br>Breakdown=%{x}<br>value=%{y}<extra></extra>\", \"legendgroup\": \"12/31/2018\", \"marker\": {\"color\": \"#00cc96\"}, \"name\": \"12/31/2018\", \"offsetgroup\": \"12/31/2018\", \"orientation\": \"v\", \"showlegend\": true, \"textposition\": \"auto\", \"type\": \"bar\", \"x\": [\"Total Assets\", \"Total Liabilities Net Minority Interest\", \"Total Equity Gross Minority Interest\", \"Total Capitalization\", \"Common Stock Equity\", \"Capital Lease Obligations\", \"Net Tangible Assets\", \"Working Capital\", \"Invested Capital\", \"Tangible Book Value\", \"Total Debt\", \"Net Debt\", \"Share Issued\", \"Ordinary Shares Number\", \"Treasury Shares Number\"], \"xaxis\": \"x\", \"y\": [17780000.0, 14621000.0, 3159000.0, 10808000.0, 2601000.0, null, 6810000.0, 1372000.0, 11494000.0, 6810000.0, 8893000.0, 8572000.0, 420667.0, 343865.0, 76801.0], \"yaxis\": \"y\"}, {\"alignmentgroup\": \"True\", \"hovertemplate\": \"variable=12/31/2017<br>Breakdown=%{x}<br>value=%{y}<extra></extra>\", \"legendgroup\": \"12/31/2017\", \"marker\": {\"color\": \"#ab63fa\"}, \"name\": \"12/31/2017\", \"offsetgroup\": \"12/31/2017\", \"orientation\": \"v\", \"showlegend\": true, \"textposition\": \"auto\", \"type\": \"bar\", \"x\": [\"Total Assets\", \"Total Liabilities Net Minority Interest\", \"Total Equity Gross Minority Interest\", \"Total Capitalization\", \"Common Stock Equity\", \"Capital Lease Obligations\", \"Net Tangible Assets\", \"Working Capital\", \"Invested Capital\", \"Tangible Book Value\", \"Total Debt\", \"Net Debt\", \"Share Issued\", \"Ordinary Shares Number\", \"Treasury Shares Number\"], \"xaxis\": \"x\", \"y\": [16350000.0, 14122000.0, 2228000.0, 10048000.0, 2212000.0, null, 5931000.0, 1443000.0, 10827000.0, 5931000.0, 8615000.0, 8334000.0, 420515.0, 345603.0, 74912.0], \"yaxis\": \"y\"}],                        {\"barmode\": \"group\", \"legend\": {\"title\": {\"text\": \"variable\"}, \"tracegroupgap\": 0}, \"template\": {\"data\": {\"bar\": [{\"error_x\": {\"color\": \"#2a3f5f\"}, \"error_y\": {\"color\": \"#2a3f5f\"}, \"marker\": {\"line\": {\"color\": \"#E5ECF6\", \"width\": 0.5}}, \"type\": \"bar\"}], \"barpolar\": [{\"marker\": {\"line\": {\"color\": \"#E5ECF6\", \"width\": 0.5}}, \"type\": \"barpolar\"}], \"carpet\": [{\"aaxis\": {\"endlinecolor\": \"#2a3f5f\", \"gridcolor\": \"white\", \"linecolor\": \"white\", \"minorgridcolor\": \"white\", \"startlinecolor\": \"#2a3f5f\"}, \"baxis\": {\"endlinecolor\": \"#2a3f5f\", \"gridcolor\": \"white\", \"linecolor\": \"white\", \"minorgridcolor\": \"white\", \"startlinecolor\": \"#2a3f5f\"}, \"type\": \"carpet\"}], \"choropleth\": [{\"colorbar\": {\"outlinewidth\": 0, \"ticks\": \"\"}, \"type\": \"choropleth\"}], \"contour\": [{\"colorbar\": {\"outlinewidth\": 0, \"ticks\": \"\"}, \"colorscale\": [[0.0, \"#0d0887\"], [0.1111111111111111, \"#46039f\"], [0.2222222222222222, \"#7201a8\"], [0.3333333333333333, \"#9c179e\"], [0.4444444444444444, \"#bd3786\"], [0.5555555555555556, \"#d8576b\"], [0.6666666666666666, \"#ed7953\"], [0.7777777777777778, \"#fb9f3a\"], [0.8888888888888888, \"#fdca26\"], [1.0, \"#f0f921\"]], \"type\": \"contour\"}], \"contourcarpet\": [{\"colorbar\": {\"outlinewidth\": 0, \"ticks\": \"\"}, \"type\": \"contourcarpet\"}], \"heatmap\": [{\"colorbar\": {\"outlinewidth\": 0, \"ticks\": \"\"}, \"colorscale\": [[0.0, \"#0d0887\"], [0.1111111111111111, \"#46039f\"], [0.2222222222222222, \"#7201a8\"], [0.3333333333333333, \"#9c179e\"], [0.4444444444444444, \"#bd3786\"], [0.5555555555555556, \"#d8576b\"], [0.6666666666666666, \"#ed7953\"], [0.7777777777777778, \"#fb9f3a\"], [0.8888888888888888, \"#fdca26\"], [1.0, \"#f0f921\"]], \"type\": \"heatmap\"}], \"heatmapgl\": [{\"colorbar\": {\"outlinewidth\": 0, \"ticks\": \"\"}, \"colorscale\": [[0.0, \"#0d0887\"], [0.1111111111111111, \"#46039f\"], [0.2222222222222222, \"#7201a8\"], [0.3333333333333333, \"#9c179e\"], [0.4444444444444444, \"#bd3786\"], [0.5555555555555556, \"#d8576b\"], [0.6666666666666666, \"#ed7953\"], [0.7777777777777778, \"#fb9f3a\"], [0.8888888888888888, \"#fdca26\"], [1.0, \"#f0f921\"]], \"type\": \"heatmapgl\"}], \"histogram\": [{\"marker\": {\"colorbar\": {\"outlinewidth\": 0, \"ticks\": \"\"}}, \"type\": \"histogram\"}], \"histogram2d\": [{\"colorbar\": {\"outlinewidth\": 0, \"ticks\": \"\"}, \"colorscale\": [[0.0, \"#0d0887\"], [0.1111111111111111, \"#46039f\"], [0.2222222222222222, \"#7201a8\"], [0.3333333333333333, \"#9c179e\"], [0.4444444444444444, \"#bd3786\"], [0.5555555555555556, \"#d8576b\"], [0.6666666666666666, \"#ed7953\"], [0.7777777777777778, \"#fb9f3a\"], [0.8888888888888888, \"#fdca26\"], [1.0, \"#f0f921\"]], \"type\": \"histogram2d\"}], \"histogram2dcontour\": [{\"colorbar\": {\"outlinewidth\": 0, \"ticks\": \"\"}, \"colorscale\": [[0.0, \"#0d0887\"], [0.1111111111111111, \"#46039f\"], [0.2222222222222222, \"#7201a8\"], [0.3333333333333333, \"#9c179e\"], [0.4444444444444444, \"#bd3786\"], [0.5555555555555556, \"#d8576b\"], [0.6666666666666666, \"#ed7953\"], [0.7777777777777778, \"#fb9f3a\"], [0.8888888888888888, \"#fdca26\"], [1.0, \"#f0f921\"]], \"type\": \"histogram2dcontour\"}], \"mesh3d\": [{\"colorbar\": {\"outlinewidth\": 0, \"ticks\": \"\"}, \"type\": \"mesh3d\"}], \"parcoords\": [{\"line\": {\"colorbar\": {\"outlinewidth\": 0, \"ticks\": \"\"}}, \"type\": \"parcoords\"}], \"pie\": [{\"automargin\": true, \"type\": \"pie\"}], \"scatter\": [{\"marker\": {\"colorbar\": {\"outlinewidth\": 0, \"ticks\": \"\"}}, \"type\": \"scatter\"}], \"scatter3d\": [{\"line\": {\"colorbar\": {\"outlinewidth\": 0, \"ticks\": \"\"}}, \"marker\": {\"colorbar\": {\"outlinewidth\": 0, \"ticks\": \"\"}}, \"type\": \"scatter3d\"}], \"scattercarpet\": [{\"marker\": {\"colorbar\": {\"outlinewidth\": 0, \"ticks\": \"\"}}, \"type\": \"scattercarpet\"}], \"scattergeo\": [{\"marker\": {\"colorbar\": {\"outlinewidth\": 0, \"ticks\": \"\"}}, \"type\": \"scattergeo\"}], \"scattergl\": [{\"marker\": {\"colorbar\": {\"outlinewidth\": 0, \"ticks\": \"\"}}, \"type\": \"scattergl\"}], \"scattermapbox\": [{\"marker\": {\"colorbar\": {\"outlinewidth\": 0, \"ticks\": \"\"}}, \"type\": \"scattermapbox\"}], \"scatterpolar\": [{\"marker\": {\"colorbar\": {\"outlinewidth\": 0, \"ticks\": \"\"}}, \"type\": \"scatterpolar\"}], \"scatterpolargl\": [{\"marker\": {\"colorbar\": {\"outlinewidth\": 0, \"ticks\": \"\"}}, \"type\": \"scatterpolargl\"}], \"scatterternary\": [{\"marker\": {\"colorbar\": {\"outlinewidth\": 0, \"ticks\": \"\"}}, \"type\": \"scatterternary\"}], \"surface\": [{\"colorbar\": {\"outlinewidth\": 0, \"ticks\": \"\"}, \"colorscale\": [[0.0, \"#0d0887\"], [0.1111111111111111, \"#46039f\"], [0.2222222222222222, \"#7201a8\"], [0.3333333333333333, \"#9c179e\"], [0.4444444444444444, \"#bd3786\"], [0.5555555555555556, \"#d8576b\"], [0.6666666666666666, \"#ed7953\"], [0.7777777777777778, \"#fb9f3a\"], [0.8888888888888888, \"#fdca26\"], [1.0, \"#f0f921\"]], \"type\": \"surface\"}], \"table\": [{\"cells\": {\"fill\": {\"color\": \"#EBF0F8\"}, \"line\": {\"color\": \"white\"}}, \"header\": {\"fill\": {\"color\": \"#C8D4E3\"}, \"line\": {\"color\": \"white\"}}, \"type\": \"table\"}]}, \"layout\": {\"annotationdefaults\": {\"arrowcolor\": \"#2a3f5f\", \"arrowhead\": 0, \"arrowwidth\": 1}, \"autotypenumbers\": \"strict\", \"coloraxis\": {\"colorbar\": {\"outlinewidth\": 0, \"ticks\": \"\"}}, \"colorscale\": {\"diverging\": [[0, \"#8e0152\"], [0.1, \"#c51b7d\"], [0.2, \"#de77ae\"], [0.3, \"#f1b6da\"], [0.4, \"#fde0ef\"], [0.5, \"#f7f7f7\"], [0.6, \"#e6f5d0\"], [0.7, \"#b8e186\"], [0.8, \"#7fbc41\"], [0.9, \"#4d9221\"], [1, \"#276419\"]], \"sequential\": [[0.0, \"#0d0887\"], [0.1111111111111111, \"#46039f\"], [0.2222222222222222, \"#7201a8\"], [0.3333333333333333, \"#9c179e\"], [0.4444444444444444, \"#bd3786\"], [0.5555555555555556, \"#d8576b\"], [0.6666666666666666, \"#ed7953\"], [0.7777777777777778, \"#fb9f3a\"], [0.8888888888888888, \"#fdca26\"], [1.0, \"#f0f921\"]], \"sequentialminus\": [[0.0, \"#0d0887\"], [0.1111111111111111, \"#46039f\"], [0.2222222222222222, \"#7201a8\"], [0.3333333333333333, \"#9c179e\"], [0.4444444444444444, \"#bd3786\"], [0.5555555555555556, \"#d8576b\"], [0.6666666666666666, \"#ed7953\"], [0.7777777777777778, \"#fb9f3a\"], [0.8888888888888888, \"#fdca26\"], [1.0, \"#f0f921\"]]}, \"colorway\": [\"#636efa\", \"#EF553B\", \"#00cc96\", \"#ab63fa\", \"#FFA15A\", \"#19d3f3\", \"#FF6692\", \"#B6E880\", \"#FF97FF\", \"#FECB52\"], \"font\": {\"color\": \"#2a3f5f\"}, \"geo\": {\"bgcolor\": \"white\", \"lakecolor\": \"white\", \"landcolor\": \"#E5ECF6\", \"showlakes\": true, \"showland\": true, \"subunitcolor\": \"white\"}, \"hoverlabel\": {\"align\": \"left\"}, \"hovermode\": \"closest\", \"mapbox\": {\"style\": \"light\"}, \"paper_bgcolor\": \"white\", \"plot_bgcolor\": \"#E5ECF6\", \"polar\": {\"angularaxis\": {\"gridcolor\": \"white\", \"linecolor\": \"white\", \"ticks\": \"\"}, \"bgcolor\": \"#E5ECF6\", \"radialaxis\": {\"gridcolor\": \"white\", \"linecolor\": \"white\", \"ticks\": \"\"}}, \"scene\": {\"xaxis\": {\"backgroundcolor\": \"#E5ECF6\", \"gridcolor\": \"white\", \"gridwidth\": 2, \"linecolor\": \"white\", \"showbackground\": true, \"ticks\": \"\", \"zerolinecolor\": \"white\"}, \"yaxis\": {\"backgroundcolor\": \"#E5ECF6\", \"gridcolor\": \"white\", \"gridwidth\": 2, \"linecolor\": \"white\", \"showbackground\": true, \"ticks\": \"\", \"zerolinecolor\": \"white\"}, \"zaxis\": {\"backgroundcolor\": \"#E5ECF6\", \"gridcolor\": \"white\", \"gridwidth\": 2, \"linecolor\": \"white\", \"showbackground\": true, \"ticks\": \"\", \"zerolinecolor\": \"white\"}}, \"shapedefaults\": {\"line\": {\"color\": \"#2a3f5f\"}}, \"ternary\": {\"aaxis\": {\"gridcolor\": \"white\", \"linecolor\": \"white\", \"ticks\": \"\"}, \"baxis\": {\"gridcolor\": \"white\", \"linecolor\": \"white\", \"ticks\": \"\"}, \"bgcolor\": \"#E5ECF6\", \"caxis\": {\"gridcolor\": \"white\", \"linecolor\": \"white\", \"ticks\": \"\"}}, \"title\": {\"x\": 0.05}, \"xaxis\": {\"automargin\": true, \"gridcolor\": \"white\", \"linecolor\": \"white\", \"ticks\": \"\", \"title\": {\"standoff\": 15}, \"zerolinecolor\": \"white\", \"zerolinewidth\": 2}, \"yaxis\": {\"automargin\": true, \"gridcolor\": \"white\", \"linecolor\": \"white\", \"ticks\": \"\", \"title\": {\"standoff\": 15}, \"zerolinecolor\": \"white\", \"zerolinewidth\": 2}}}, \"title\": {\"text\": \"Kellog Company Balance Sheet for the last 4 years\"}, \"width\": 1500, \"xaxis\": {\"anchor\": \"y\", \"domain\": [0.0, 1.0], \"title\": {\"text\": \"Breakdown\"}}, \"yaxis\": {\"anchor\": \"x\", \"domain\": [0.0, 1.0], \"title\": {\"text\": \"value\"}}},                        {\"responsive\": true}                    ).then(function(){\n",
       "                            \n",
       "var gd = document.getElementById('3ff754ef-30e3-48c1-b07e-90a915888820');\n",
       "var x = new MutationObserver(function (mutations, observer) {{\n",
       "        var display = window.getComputedStyle(gd).display;\n",
       "        if (!display || display === 'none') {{\n",
       "            console.log([gd, 'removed!']);\n",
       "            Plotly.purge(gd);\n",
       "            observer.disconnect();\n",
       "        }}\n",
       "}});\n",
       "\n",
       "// Listen for the removal of the full notebook cells\n",
       "var notebookContainer = gd.closest('#notebook-container');\n",
       "if (notebookContainer) {{\n",
       "    x.observe(notebookContainer, {childList: true});\n",
       "}}\n",
       "\n",
       "// Listen for the clearing of the current output cell\n",
       "var outputEl = gd.closest('.output');\n",
       "if (outputEl) {{\n",
       "    x.observe(outputEl, {childList: true});\n",
       "}}\n",
       "\n",
       "                        })                };                });            </script>        </div>"
      ]
     },
     "metadata": {},
     "output_type": "display_data"
    }
   ],
   "source": [
    "fig = px.bar(data_frame=final_df,y=final_df.columns,\n",
    "            x = final_df.index,\n",
    "            barmode='group',\n",
    "            width=1500,\n",
    "            title='Kellog Company Balance Sheet for the last 4 years')\n",
    "fig"
   ]
  },
  {
   "cell_type": "code",
   "execution_count": 68,
   "id": "alert-clause",
   "metadata": {},
   "outputs": [],
   "source": [
    "fig.write_html(\"fig.html\")"
   ]
  },
  {
   "cell_type": "code",
   "execution_count": null,
   "id": "lined-cherry",
   "metadata": {},
   "outputs": [],
   "source": [
    "!conda install Pillow"
   ]
  },
  {
   "cell_type": "code",
   "execution_count": null,
   "id": "minute-cache",
   "metadata": {},
   "outputs": [],
   "source": []
  }
 ],
 "metadata": {
  "kernelspec": {
   "display_name": "Python 3",
   "language": "python",
   "name": "python3"
  },
  "language_info": {
   "codemirror_mode": {
    "name": "ipython",
    "version": 3
   },
   "file_extension": ".py",
   "mimetype": "text/x-python",
   "name": "python",
   "nbconvert_exporter": "python",
   "pygments_lexer": "ipython3",
   "version": "3.8.5"
  }
 },
 "nbformat": 4,
 "nbformat_minor": 5
}
